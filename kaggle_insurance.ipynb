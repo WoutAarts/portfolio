{
 "cells": [
  {
   "cell_type": "markdown",
   "metadata": {},
   "source": [
    "# Imports "
   ]
  },
  {
   "cell_type": "code",
   "execution_count": 308,
   "metadata": {},
   "outputs": [],
   "source": [
    "import os\n",
    "import numpy as np\n",
    "import pandas as pd\n",
    "import matplotlib.pyplot as plt\n",
    "\n",
    "from scipy.integrate import trapz\n",
    "from scipy.optimize import linprog\n",
    "from sklearn.model_selection import train_test_split\n",
    "\n",
    "import statsmodels.formula.api as smf\n",
    "import statsmodels.api as sm\n",
    "\n",
    "from sklearn.metrics import mean_squared_error\n",
    "from sklearn.ensemble import RandomForestRegressor\n",
    "\n",
    "import xgboost as xgb\n",
    "\n",
    "import warnings\n",
    "warnings.filterwarnings('ignore')"
   ]
  },
  {
   "cell_type": "markdown",
   "metadata": {},
   "source": [
    "# Import data"
   ]
  },
  {
   "cell_type": "code",
   "execution_count": 387,
   "metadata": {},
   "outputs": [],
   "source": [
    "# train = pd.read_csv('data/train.csv')\n",
    "# test = pd.read_csv('data/test.csv')\n",
    "# sample_submission = pd.read_csv('data/sample_submission.csv')\n",
    "train = pd.read_csv('gs://cytora-user-wout/train.csv')\n",
    "test = pd.read_csv('gs://cytora-user-wout/test.csv')\n",
    "sample_submission = pd.read_csv('gs://cytora-user-wout/sample_submission.csv')"
   ]
  },
  {
   "cell_type": "markdown",
   "metadata": {},
   "source": [
    "# Data exploration"
   ]
  },
  {
   "cell_type": "markdown",
   "metadata": {},
   "source": [
    "## Train"
   ]
  },
  {
   "cell_type": "code",
   "execution_count": 4,
   "metadata": {
    "scrolled": true
   },
   "outputs": [
    {
     "data": {
      "text/plain": [
       "(188318, 132)"
      ]
     },
     "execution_count": 4,
     "metadata": {},
     "output_type": "execute_result"
    }
   ],
   "source": [
    "train.shape"
   ]
  },
  {
   "cell_type": "code",
   "execution_count": 5,
   "metadata": {},
   "outputs": [
    {
     "name": "stdout",
     "output_type": "stream",
     "text": [
      "116 categorical features\n",
      "14 of continuous features: \n"
     ]
    }
   ],
   "source": [
    "cat_features = [feature for feature in list(train) if 'cat' in feature]\n",
    "print('{} categorical features'.format(len(cat_features)))\n",
    "\n",
    "cont_features = [feature for feature in list(train) if 'cont' in feature]\n",
    "print('{} of continuous features: '.format(len(cont_features)))"
   ]
  },
  {
   "cell_type": "code",
   "execution_count": 6,
   "metadata": {},
   "outputs": [],
   "source": [
    "assert len(cat_features) + len(cont_features) + 2 == train.shape[1]"
   ]
  },
  {
   "cell_type": "markdown",
   "metadata": {},
   "source": [
    "### Categorical features "
   ]
  },
  {
   "cell_type": "markdown",
   "metadata": {},
   "source": [
    "How many categories do the categorical features have? "
   ]
  },
  {
   "cell_type": "code",
   "execution_count": 7,
   "metadata": {},
   "outputs": [],
   "source": [
    "cat_nr_dict = {}\n",
    "\n",
    "for cat in cat_features:\n",
    "    cat_nr_dict[cat] = train[cat].nunique()"
   ]
  },
  {
   "cell_type": "code",
   "execution_count": 8,
   "metadata": {},
   "outputs": [],
   "source": [
    "cat_nr_series = pd.Series(cat_nr_dict)"
   ]
  },
  {
   "cell_type": "code",
   "execution_count": 353,
   "metadata": {},
   "outputs": [
    {
     "data": {
      "image/png": "[encoded data removed]",
      "text/plain": [
       "<Figure size 432x288 with 1 Axes>"
      ]
     },
     "metadata": {
      "needs_background": "light"
     },
     "output_type": "display_data"
    }
   ],
   "source": [
    "cat_nr_series.value_counts().sort_index(ascending=False).plot('barh');"
   ]
  },
  {
   "cell_type": "code",
   "execution_count": 10,
   "metadata": {},
   "outputs": [
    {
     "name": "stdout",
     "output_type": "stream",
     "text": [
      "Nr of categories:  23\n",
      "Perc of categories smaller than 1%:  0.5217391304347826\n",
      "\n",
      "Nr of categories:  51\n",
      "Perc of categories smaller than 1%:  0.5882352941176471\n",
      "\n",
      "Nr of categories:  61\n",
      "Perc of categories smaller than 1%:  0.5737704918032787\n",
      "\n",
      "Nr of categories:  84\n",
      "Perc of categories smaller than 1%:  0.9523809523809523\n",
      "\n",
      "Nr of categories:  131\n",
      "Perc of categories smaller than 1%:  0.8625954198473282\n",
      "\n",
      "Nr of categories:  326\n",
      "Perc of categories smaller than 1%:  0.9233128834355828\n",
      "\n"
     ]
    }
   ],
   "source": [
    "for i in cat_nr_series.value_counts().sort_index()[-6:].index:\n",
    "    \n",
    "    perc = sum(train[cat_nr_series[cat_nr_series == i].index[0]].value_counts(normalize=1) < 0.01) / i\n",
    "\n",
    "    print('Nr of categories: ', i)\n",
    "    print('Perc of categories smaller than 1%: ', perc)\n",
    "    print()"
   ]
  },
  {
   "cell_type": "markdown",
   "metadata": {},
   "source": [
    "For some algorithms we need to create dummies from categorical variables, so we can cut off at categorgy being represented in $<1\\%$ of the rows."
   ]
  },
  {
   "cell_type": "code",
   "execution_count": 11,
   "metadata": {},
   "outputs": [],
   "source": [
    "def to_other_cat(df, col, cut_off):\n",
    "    df = df.copy()\n",
    "    vc = df[col].value_counts(normalize=1)\n",
    "    small_category = vc < cut_off\n",
    "    small_category_list = list(small_category.index[small_category])\n",
    "    small_category_filter = df[col].isin(small_category_list)\n",
    "    df.loc[small_category_filter, col] = 'other'\n",
    "    return df[col]"
   ]
  },
  {
   "cell_type": "code",
   "execution_count": 13,
   "metadata": {
    "scrolled": false
   },
   "outputs": [],
   "source": [
    "cut_off = 0.01\n",
    "\n",
    "for feat in cat_features:\n",
    "    train[feat + '_o'] = to_other_cat(train, feat, 0.01)\n",
    "    \n",
    "    # we need to ensure the same categories exist in the test set for when we make predictions\n",
    "    test[feat + '_o'] = test[feat]\n",
    "    \n",
    "    keep_list = list(set(train[feat + '_o']))\n",
    "\n",
    "    test.loc[~test[feat].isin(keep_list), feat + '_o'] = 'other'"
   ]
  },
  {
   "cell_type": "code",
   "execution_count": 14,
   "metadata": {},
   "outputs": [],
   "source": [
    "cat_other_features = [feat for feat in list(train) if '_o' in feat]"
   ]
  },
  {
   "cell_type": "code",
   "execution_count": 15,
   "metadata": {},
   "outputs": [],
   "source": [
    "cat_dummy_features = []\n",
    "\n",
    "for feat in cat_other_features:\n",
    "    train_dummy_df = pd.get_dummies(train[feat], prefix=feat, drop_first=True)\n",
    "    \n",
    "    dummy_features = list(train_dummy_df)\n",
    "    \n",
    "    train[dummy_features] = train_dummy_df\n",
    "    \n",
    "    cat_dummy_features = cat_dummy_features + dummy_features\n",
    "    \n",
    "    test_dummy_df = pd.get_dummies(test[feat], prefix=feat)\n",
    "    \n",
    "    test[dummy_features] = test_dummy_df[dummy_features]"
   ]
  },
  {
   "cell_type": "code",
   "execution_count": 16,
   "metadata": {},
   "outputs": [],
   "source": [
    "assert set(list(test)) - set(list(train)) == set()"
   ]
  },
  {
   "cell_type": "code",
   "execution_count": 17,
   "metadata": {},
   "outputs": [],
   "source": [
    "assert set(list(train)) - set(list(test)) == {'loss'}"
   ]
  },
  {
   "cell_type": "markdown",
   "metadata": {},
   "source": [
    "The cat_dummy_features should all be boolean now"
   ]
  },
  {
   "cell_type": "code",
   "execution_count": 18,
   "metadata": {},
   "outputs": [],
   "source": [
    "assert (train[cat_dummy_features].dtypes == 'uint8').all()"
   ]
  },
  {
   "cell_type": "markdown",
   "metadata": {},
   "source": [
    "Random slice of the categoricals:"
   ]
  },
  {
   "cell_type": "code",
   "execution_count": 19,
   "metadata": {},
   "outputs": [
    {
     "data": {
      "text/html": [
       "<div>\n",
       "<style scoped>\n",
       "    .dataframe tbody tr th:only-of-type {\n",
       "        vertical-align: middle;\n",
       "    }\n",
       "\n",
       "    .dataframe tbody tr th {\n",
       "        vertical-align: top;\n",
       "    }\n",
       "\n",
       "    .dataframe thead th {\n",
       "        text-align: right;\n",
       "    }\n",
       "</style>\n",
       "<table border=\"1\" class=\"dataframe\">\n",
       "  <thead>\n",
       "    <tr style=\"text-align: right;\">\n",
       "      <th></th>\n",
       "      <th>cat2_o_B</th>\n",
       "      <th>cat111_o_G</th>\n",
       "      <th>cat113_o_AX</th>\n",
       "      <th>cat112_o_AV</th>\n",
       "      <th>cat116_o_LM</th>\n",
       "    </tr>\n",
       "  </thead>\n",
       "  <tbody>\n",
       "    <tr>\n",
       "      <th>99542</th>\n",
       "      <td>0</td>\n",
       "      <td>0</td>\n",
       "      <td>0</td>\n",
       "      <td>0</td>\n",
       "      <td>0</td>\n",
       "    </tr>\n",
       "    <tr>\n",
       "      <th>50898</th>\n",
       "      <td>0</td>\n",
       "      <td>0</td>\n",
       "      <td>0</td>\n",
       "      <td>0</td>\n",
       "      <td>0</td>\n",
       "    </tr>\n",
       "    <tr>\n",
       "      <th>156869</th>\n",
       "      <td>0</td>\n",
       "      <td>0</td>\n",
       "      <td>0</td>\n",
       "      <td>0</td>\n",
       "      <td>0</td>\n",
       "    </tr>\n",
       "    <tr>\n",
       "      <th>138433</th>\n",
       "      <td>0</td>\n",
       "      <td>0</td>\n",
       "      <td>0</td>\n",
       "      <td>0</td>\n",
       "      <td>0</td>\n",
       "    </tr>\n",
       "    <tr>\n",
       "      <th>158254</th>\n",
       "      <td>1</td>\n",
       "      <td>0</td>\n",
       "      <td>0</td>\n",
       "      <td>0</td>\n",
       "      <td>0</td>\n",
       "    </tr>\n",
       "  </tbody>\n",
       "</table>\n",
       "</div>"
      ],
      "text/plain": [
       "        cat2_o_B  cat111_o_G  cat113_o_AX  cat112_o_AV  cat116_o_LM\n",
       "99542          0           0            0            0            0\n",
       "50898          0           0            0            0            0\n",
       "156869         0           0            0            0            0\n",
       "138433         0           0            0            0            0\n",
       "158254         1           0            0            0            0"
      ]
     },
     "execution_count": 19,
     "metadata": {},
     "output_type": "execute_result"
    }
   ],
   "source": [
    "train[cat_dummy_features].sample(5).T.sample(5).T"
   ]
  },
  {
   "cell_type": "markdown",
   "metadata": {},
   "source": [
    "### Continuous features "
   ]
  },
  {
   "cell_type": "code",
   "execution_count": 20,
   "metadata": {},
   "outputs": [
    {
     "data": {
      "text/plain": [
       "''"
      ]
     },
     "execution_count": 20,
     "metadata": {},
     "output_type": "execute_result"
    },
    {
     "data": {
      "image/png": "[encoded data removed]",
      "text/plain": [
       "<Figure size 1440x504 with 14 Axes>"
      ]
     },
     "metadata": {
      "needs_background": "light"
     },
     "output_type": "display_data"
    }
   ],
   "source": [
    "fig, ax = plt.subplots(ncols=7, nrows=2, figsize=(20, 7))\n",
    "\n",
    "k=0\n",
    "for j in range(2):\n",
    "    for i in range(7):\n",
    "        ax[j,i].hist(train[cont_features[k]], bins=50)\n",
    "        ax[j,i].set_title(cont_features[k])\n",
    "        k+=1\n",
    ";"
   ]
  },
  {
   "cell_type": "markdown",
   "metadata": {},
   "source": [
    "Maybe cont2 can be changed to categorical variable."
   ]
  },
  {
   "cell_type": "code",
   "execution_count": 21,
   "metadata": {},
   "outputs": [
    {
     "name": "stdout",
     "output_type": "stream",
     "text": [
      "Cont2 has 33 unique elements\n"
     ]
    }
   ],
   "source": [
    "c2_un = train['cont2'].nunique()\n",
    "print('Cont2 has {} unique elements'.format(c2_un))"
   ]
  },
  {
   "cell_type": "markdown",
   "metadata": {},
   "source": [
    "Hard to determine without context on what the variable represents, might be something like age in which case continuous makes sense. "
   ]
  },
  {
   "cell_type": "markdown",
   "metadata": {},
   "source": [
    "### Target variable"
   ]
  },
  {
   "cell_type": "code",
   "execution_count": 23,
   "metadata": {},
   "outputs": [
    {
     "data": {
      "image/png": "[encoded data removed]",
      "text/plain": [
       "<Figure size 720x360 with 2 Axes>"
      ]
     },
     "metadata": {
      "needs_background": "light"
     },
     "output_type": "display_data"
    }
   ],
   "source": [
    "fig, ax = plt.subplots(ncols=2, figsize=(10, 5))\n",
    "ax[0].hist(train['loss'], bins=50);\n",
    "ax[1].hist(np.log10(train['loss']), bins=50);"
   ]
  },
  {
   "cell_type": "markdown",
   "metadata": {},
   "source": [
    "## Test +  sample submission"
   ]
  },
  {
   "cell_type": "code",
   "execution_count": 24,
   "metadata": {},
   "outputs": [
    {
     "data": {
      "text/plain": [
       "(125546, 588)"
      ]
     },
     "execution_count": 24,
     "metadata": {},
     "output_type": "execute_result"
    }
   ],
   "source": [
    "test.shape"
   ]
  },
  {
   "cell_type": "code",
   "execution_count": 25,
   "metadata": {},
   "outputs": [
    {
     "data": {
      "text/plain": [
       "(125546, 2)"
      ]
     },
     "execution_count": 25,
     "metadata": {},
     "output_type": "execute_result"
    }
   ],
   "source": [
    "sample_submission.shape"
   ]
  },
  {
   "cell_type": "code",
   "execution_count": 26,
   "metadata": {},
   "outputs": [],
   "source": [
    "assert pd.Series(test['id'] == sample_submission['id']).all()"
   ]
  },
  {
   "cell_type": "markdown",
   "metadata": {},
   "source": [
    "# Evaluation"
   ]
  },
  {
   "cell_type": "markdown",
   "metadata": {
    "collapsed": true
   },
   "source": [
    "Let's define a Lorenz curve "
   ]
  },
  {
   "cell_type": "code",
   "execution_count": 398,
   "metadata": {},
   "outputs": [],
   "source": [
    "def lorenz_curve(risk_proxy, loss):\n",
    "    idx = np.argsort(risk_proxy)\n",
    "    \n",
    "    ordered_loss = loss[idx]\n",
    "    cum_loss =  ordered_loss.cumsum() / sum(loss)\n",
    "    x_axis = np.linspace(0,1,len(cum_loss))\n",
    "    \n",
    "    return np.append([0], x_axis), np.append([0], cum_loss)"
   ]
  },
  {
   "cell_type": "code",
   "execution_count": 399,
   "metadata": {},
   "outputs": [],
   "source": [
    "def score(x, y):\n",
    "    integral = trapz(y, x)\n",
    "    output = 1 - 2 * integral \n",
    "    \n",
    "    return output"
   ]
  },
  {
   "cell_type": "code",
   "execution_count": 395,
   "metadata": {},
   "outputs": [],
   "source": [
    "def lorenz_plot(df, list_of_risk_proxies, loss):\n",
    "    \n",
    "    fig, ax = plt.subplots(figsize=(10,10))\n",
    "    for i in range(len(list_of_risk_proxies)):\n",
    "        y = lorenz_curve(df[list_of_risk_proxies[i]], df[loss])\n",
    "        score_y = score(y[0], y[1])\n",
    "        \n",
    "        legend = list_of_risk_proxies[i] + ', score: ' + str(np.round(score_y,2))\n",
    "        \n",
    "        ax.plot(y[0], y[1], label=legend);\n",
    "        \n",
    "    ax.set_xlim(0,1.01)\n",
    "    ax.set_ylim(0,1.01)\n",
    "    ax.plot(ax.get_xlim(), ax.get_ylim(), ls=\"--\", c=\".3\")\n",
    "    ax.legend()"
   ]
  },
  {
   "cell_type": "code",
   "execution_count": 396,
   "metadata": {},
   "outputs": [],
   "source": [
    "thing = pd.DataFrame({\n",
    "    'x1': np.array([0,7,2,7,4,5]), \n",
    "    'x2': np.array([10,1,2,3,4,5]),\n",
    "    'x3': np.array([0,1,3,2,4,0]),\n",
    "    'x4': np.array([0,10,8,1,5,3]),\n",
    "    'loss':np.array([1,2,5,66,9,4])\n",
    "})"
   ]
  },
  {
   "cell_type": "code",
   "execution_count": 436,
   "metadata": {},
   "outputs": [
    {
     "data": {
      "text/plain": [
       "26"
      ]
     },
     "execution_count": 436,
     "metadata": {},
     "output_type": "execute_result"
    }
   ],
   "source": [
    "np.random.randint(100)"
   ]
  },
  {
   "cell_type": "code",
   "execution_count": 440,
   "metadata": {},
   "outputs": [],
   "source": [
    "thing = pd.DataFrame({\n",
    "    'x1': np.random.rand(1,10)[0] * np.random.randint(10000), \n",
    "    'x2': np.random.rand(1,10)[0] * np.random.randint(10000),\n",
    "    'x3': np.random.rand(1,10)[0] * np.random.randint(10000),\n",
    "    'x4': np.random.rand(1,10)[0] * np.random.randint(10000),\n",
    "    'loss': np.random.rand(1,10)[0] * np.random.randint(10000)\n",
    "#     'loss':np.array([11,3,2,5,66,9,4,5,7,3])\n",
    "})"
   ]
  },
  {
   "cell_type": "code",
   "execution_count": 441,
   "metadata": {},
   "outputs": [
    {
     "data": {
      "image/png": "[encoded data removed]",
      "text/plain": [
       "<Figure size 720x720 with 1 Axes>"
      ]
     },
     "metadata": {
      "needs_background": "light"
     },
     "output_type": "display_data"
    }
   ],
   "source": [
    "lorenz_plot(\n",
    "    thing,\n",
    "    ['x1', 'x2', 'x3', 'x4'],\n",
    "    'loss'   \n",
    ")"
   ]
  },
  {
   "cell_type": "markdown",
   "metadata": {},
   "source": [
    "# RMSE "
   ]
  },
  {
   "cell_type": "markdown",
   "metadata": {},
   "source": [
    "# Process for modelling"
   ]
  },
  {
   "cell_type": "code",
   "execution_count": 33,
   "metadata": {},
   "outputs": [],
   "source": [
    "X_train, X_test, y_train, y_test = train_test_split(\n",
    "    train.drop('loss', axis=1),\n",
    "    train[['loss']],\n",
    "    test_size=0.33, \n",
    "    random_state=42\n",
    ")"
   ]
  },
  {
   "cell_type": "code",
   "execution_count": 34,
   "metadata": {},
   "outputs": [
    {
     "data": {
      "text/html": [
       "<div>\n",
       "<style scoped>\n",
       "    .dataframe tbody tr th:only-of-type {\n",
       "        vertical-align: middle;\n",
       "    }\n",
       "\n",
       "    .dataframe tbody tr th {\n",
       "        vertical-align: top;\n",
       "    }\n",
       "\n",
       "    .dataframe thead th {\n",
       "        text-align: right;\n",
       "    }\n",
       "</style>\n",
       "<table border=\"1\" class=\"dataframe\">\n",
       "  <thead>\n",
       "    <tr style=\"text-align: right;\">\n",
       "      <th></th>\n",
       "      <th>id</th>\n",
       "      <th>cat1</th>\n",
       "      <th>cat2</th>\n",
       "      <th>cat3</th>\n",
       "      <th>cat4</th>\n",
       "      <th>cat5</th>\n",
       "      <th>cat6</th>\n",
       "      <th>cat7</th>\n",
       "      <th>cat8</th>\n",
       "      <th>cat9</th>\n",
       "      <th>...</th>\n",
       "      <th>cat116_o_HX</th>\n",
       "      <th>cat116_o_IE</th>\n",
       "      <th>cat116_o_IG</th>\n",
       "      <th>cat116_o_KW</th>\n",
       "      <th>cat116_o_LB</th>\n",
       "      <th>cat116_o_LM</th>\n",
       "      <th>cat116_o_LN</th>\n",
       "      <th>cat116_o_LO</th>\n",
       "      <th>cat116_o_MD</th>\n",
       "      <th>cat116_o_other</th>\n",
       "    </tr>\n",
       "  </thead>\n",
       "  <tbody>\n",
       "    <tr>\n",
       "      <th>31228</th>\n",
       "      <td>98041</td>\n",
       "      <td>A</td>\n",
       "      <td>A</td>\n",
       "      <td>A</td>\n",
       "      <td>B</td>\n",
       "      <td>A</td>\n",
       "      <td>A</td>\n",
       "      <td>A</td>\n",
       "      <td>A</td>\n",
       "      <td>A</td>\n",
       "      <td>...</td>\n",
       "      <td>0</td>\n",
       "      <td>0</td>\n",
       "      <td>0</td>\n",
       "      <td>0</td>\n",
       "      <td>0</td>\n",
       "      <td>0</td>\n",
       "      <td>0</td>\n",
       "      <td>0</td>\n",
       "      <td>0</td>\n",
       "      <td>0</td>\n",
       "    </tr>\n",
       "    <tr>\n",
       "      <th>75562</th>\n",
       "      <td>236254</td>\n",
       "      <td>B</td>\n",
       "      <td>A</td>\n",
       "      <td>A</td>\n",
       "      <td>A</td>\n",
       "      <td>A</td>\n",
       "      <td>B</td>\n",
       "      <td>A</td>\n",
       "      <td>A</td>\n",
       "      <td>A</td>\n",
       "      <td>...</td>\n",
       "      <td>0</td>\n",
       "      <td>0</td>\n",
       "      <td>0</td>\n",
       "      <td>0</td>\n",
       "      <td>0</td>\n",
       "      <td>0</td>\n",
       "      <td>0</td>\n",
       "      <td>0</td>\n",
       "      <td>0</td>\n",
       "      <td>0</td>\n",
       "    </tr>\n",
       "  </tbody>\n",
       "</table>\n",
       "<p>2 rows × 588 columns</p>\n",
       "</div>"
      ],
      "text/plain": [
       "           id cat1 cat2 cat3 cat4 cat5 cat6 cat7 cat8 cat9  ... cat116_o_HX  \\\n",
       "31228   98041    A    A    A    B    A    A    A    A    A  ...           0   \n",
       "75562  236254    B    A    A    A    A    B    A    A    A  ...           0   \n",
       "\n",
       "      cat116_o_IE cat116_o_IG cat116_o_KW cat116_o_LB cat116_o_LM cat116_o_LN  \\\n",
       "31228           0           0           0           0           0           0   \n",
       "75562           0           0           0           0           0           0   \n",
       "\n",
       "      cat116_o_LO cat116_o_MD cat116_o_other  \n",
       "31228           0           0              0  \n",
       "75562           0           0              0  \n",
       "\n",
       "[2 rows x 588 columns]"
      ]
     },
     "execution_count": 34,
     "metadata": {},
     "output_type": "execute_result"
    }
   ],
   "source": [
    "X_train.head(2)"
   ]
  },
  {
   "cell_type": "code",
   "execution_count": 35,
   "metadata": {
    "scrolled": true
   },
   "outputs": [
    {
     "data": {
      "text/html": [
       "<div>\n",
       "<style scoped>\n",
       "    .dataframe tbody tr th:only-of-type {\n",
       "        vertical-align: middle;\n",
       "    }\n",
       "\n",
       "    .dataframe tbody tr th {\n",
       "        vertical-align: top;\n",
       "    }\n",
       "\n",
       "    .dataframe thead th {\n",
       "        text-align: right;\n",
       "    }\n",
       "</style>\n",
       "<table border=\"1\" class=\"dataframe\">\n",
       "  <thead>\n",
       "    <tr style=\"text-align: right;\">\n",
       "      <th></th>\n",
       "      <th>loss</th>\n",
       "    </tr>\n",
       "  </thead>\n",
       "  <tbody>\n",
       "    <tr>\n",
       "      <th>31228</th>\n",
       "      <td>840.33</td>\n",
       "    </tr>\n",
       "    <tr>\n",
       "      <th>75562</th>\n",
       "      <td>1303.28</td>\n",
       "    </tr>\n",
       "  </tbody>\n",
       "</table>\n",
       "</div>"
      ],
      "text/plain": [
       "          loss\n",
       "31228   840.33\n",
       "75562  1303.28"
      ]
     },
     "execution_count": 35,
     "metadata": {},
     "output_type": "execute_result"
    }
   ],
   "source": [
    "y_train.head(2)"
   ]
  },
  {
   "cell_type": "markdown",
   "metadata": {},
   "source": [
    "# GLM"
   ]
  },
  {
   "cell_type": "code",
   "execution_count": 36,
   "metadata": {},
   "outputs": [],
   "source": [
    "assert X_train[cat_dummy_features + cont_features].notnull().all().all()"
   ]
  },
  {
   "cell_type": "code",
   "execution_count": 75,
   "metadata": {},
   "outputs": [],
   "source": [
    "def train_glm(df, target, feature_list, output='results'):\n",
    "    glm = smf.GLM(\n",
    "        exog=sm.add_constant(df[feature_list]).astype(float).values,\n",
    "        endog=target.astype(float).values,\n",
    "        family=sm.families.Gamma(),\n",
    "    )\n",
    "\n",
    "    results_glm = glm.fit()\n",
    "    \n",
    "\n",
    "    if output == 'results':\n",
    "        return results_glm.summary2(xname=['const'] + list(df[feature_list]))\n",
    "    if output == 'model':\n",
    "        return glm, results_glm"
   ]
  },
  {
   "cell_type": "code",
   "execution_count": 46,
   "metadata": {},
   "outputs": [],
   "source": [
    "results_continuous = train_glm(X_train, y_train, cont_features)"
   ]
  },
  {
   "cell_type": "code",
   "execution_count": 47,
   "metadata": {},
   "outputs": [
    {
     "data": {
      "text/html": [
       "<table class=\"simpletable\">\n",
       "<tr>\n",
       "        <td>Model:</td>               <td>GLM</td>            <td>AIC:</td>       <td>2256545.6809</td> \n",
       "</tr>\n",
       "<tr>\n",
       "    <td>Link Function:</td>      <td>inverse_power</td>       <td>BIC:</td>       <td>-1401931.0934</td>\n",
       "</tr>\n",
       "<tr>\n",
       "  <td>Dependent Variable:</td>         <td>y</td>        <td>Log-Likelihood:</td>  <td>-1.1283e+06</td> \n",
       "</tr>\n",
       "<tr>\n",
       "         <td>Date:</td>        <td>2019-05-23 07:35</td>    <td>LL-Null:</td>      <td>-1.1312e+06</td> \n",
       "</tr>\n",
       "<tr>\n",
       "   <td>No. Observations:</td>       <td>126173</td>         <td>Deviance:</td>       <td>79846.</td>    \n",
       "</tr>\n",
       "<tr>\n",
       "       <td>Df Model:</td>             <td>14</td>         <td>Pearson chi2:</td>    <td>9.43e+04</td>   \n",
       "</tr>\n",
       "<tr>\n",
       "     <td>Df Residuals:</td>         <td>126158</td>          <td>Scale:</td>         <td>0.74763</td>   \n",
       "</tr>\n",
       "<tr>\n",
       "        <td>Method:</td>             <td>IRLS</td>              <td></td>               <td></td>       \n",
       "</tr>\n",
       "</table>\n",
       "<table class=\"simpletable\">\n",
       "<tr>\n",
       "     <td></td>     <th>Coef.</th>  <th>Std.Err.</th>     <th>z</th>     <th>P>|z|</th> <th>[0.025</th>  <th>0.975]</th> \n",
       "</tr>\n",
       "<tr>\n",
       "  <th>const</th>  <td>0.0005</td>   <td>0.0000</td>   <td>83.9685</td> <td>0.0000</td> <td>0.0005</td>  <td>0.0005</td> \n",
       "</tr>\n",
       "<tr>\n",
       "  <th>cont1</th>  <td>0.0002</td>   <td>0.0000</td>   <td>14.2305</td> <td>0.0000</td> <td>0.0002</td>  <td>0.0002</td> \n",
       "</tr>\n",
       "<tr>\n",
       "  <th>cont2</th>  <td>-0.0002</td>  <td>0.0000</td>  <td>-40.7400</td> <td>0.0000</td> <td>-0.0002</td> <td>-0.0002</td>\n",
       "</tr>\n",
       "<tr>\n",
       "  <th>cont3</th>  <td>0.0000</td>   <td>0.0000</td>   <td>0.0685</td>  <td>0.9454</td> <td>-0.0000</td> <td>0.0000</td> \n",
       "</tr>\n",
       "<tr>\n",
       "  <th>cont4</th>  <td>0.0000</td>   <td>0.0000</td>   <td>7.4573</td>  <td>0.0000</td> <td>0.0000</td>  <td>0.0001</td> \n",
       "</tr>\n",
       "<tr>\n",
       "  <th>cont5</th>  <td>-0.0000</td>  <td>0.0000</td>   <td>-2.1149</td> <td>0.0344</td> <td>-0.0000</td> <td>-0.0000</td>\n",
       "</tr>\n",
       "<tr>\n",
       "  <th>cont6</th>  <td>0.0000</td>   <td>0.0000</td>   <td>2.3404</td>  <td>0.0193</td> <td>0.0000</td>  <td>0.0001</td> \n",
       "</tr>\n",
       "<tr>\n",
       "  <th>cont7</th>  <td>-0.0001</td>  <td>0.0000</td>  <td>-16.4038</td> <td>0.0000</td> <td>-0.0002</td> <td>-0.0001</td>\n",
       "</tr>\n",
       "<tr>\n",
       "  <th>cont8</th>  <td>-0.0000</td>  <td>0.0000</td>   <td>-6.4799</td> <td>0.0000</td> <td>-0.0000</td> <td>-0.0000</td>\n",
       "</tr>\n",
       "<tr>\n",
       "  <th>cont9</th>  <td>-0.0002</td>  <td>0.0000</td>  <td>-13.6724</td> <td>0.0000</td> <td>-0.0002</td> <td>-0.0002</td>\n",
       "</tr>\n",
       "<tr>\n",
       "  <th>cont10</th> <td>0.0000</td>   <td>0.0000</td>   <td>2.2026</td>  <td>0.0276</td> <td>0.0000</td>  <td>0.0000</td> \n",
       "</tr>\n",
       "<tr>\n",
       "  <th>cont11</th> <td>0.0001</td>   <td>0.0000</td>   <td>3.3029</td>  <td>0.0010</td> <td>0.0000</td>  <td>0.0002</td> \n",
       "</tr>\n",
       "<tr>\n",
       "  <th>cont12</th> <td>-0.0002</td>  <td>0.0000</td>   <td>-5.7861</td> <td>0.0000</td> <td>-0.0003</td> <td>-0.0001</td>\n",
       "</tr>\n",
       "<tr>\n",
       "  <th>cont13</th> <td>0.0000</td>   <td>0.0000</td>   <td>5.0341</td>  <td>0.0000</td> <td>0.0000</td>  <td>0.0001</td> \n",
       "</tr>\n",
       "<tr>\n",
       "  <th>cont14</th> <td>-0.0000</td>  <td>0.0000</td>   <td>-7.8635</td> <td>0.0000</td> <td>-0.0000</td> <td>-0.0000</td>\n",
       "</tr>\n",
       "</table>"
      ],
      "text/plain": [
       "<class 'statsmodels.iolib.summary2.Summary'>\n",
       "\"\"\"\n",
       "                Results: Generalized linear model\n",
       "==================================================================\n",
       "Model:              GLM              AIC:            2256545.6809 \n",
       "Link Function:      inverse_power    BIC:            -1401931.0934\n",
       "Dependent Variable: y                Log-Likelihood: -1.1283e+06  \n",
       "Date:               2019-05-23 07:35 LL-Null:        -1.1312e+06  \n",
       "No. Observations:   126173           Deviance:       79846.       \n",
       "Df Model:           14               Pearson chi2:   9.43e+04     \n",
       "Df Residuals:       126158           Scale:          0.74763      \n",
       "Method:             IRLS                                          \n",
       "--------------------------------------------------------------------\n",
       "           Coef.    Std.Err.      z       P>|z|     [0.025    0.975]\n",
       "--------------------------------------------------------------------\n",
       "const      0.0005     0.0000    83.9685   0.0000    0.0005    0.0005\n",
       "cont1      0.0002     0.0000    14.2305   0.0000    0.0002    0.0002\n",
       "cont2     -0.0002     0.0000   -40.7400   0.0000   -0.0002   -0.0002\n",
       "cont3      0.0000     0.0000     0.0685   0.9454   -0.0000    0.0000\n",
       "cont4      0.0000     0.0000     7.4573   0.0000    0.0000    0.0001\n",
       "cont5     -0.0000     0.0000    -2.1149   0.0344   -0.0000   -0.0000\n",
       "cont6      0.0000     0.0000     2.3404   0.0193    0.0000    0.0001\n",
       "cont7     -0.0001     0.0000   -16.4038   0.0000   -0.0002   -0.0001\n",
       "cont8     -0.0000     0.0000    -6.4799   0.0000   -0.0000   -0.0000\n",
       "cont9     -0.0002     0.0000   -13.6724   0.0000   -0.0002   -0.0002\n",
       "cont10     0.0000     0.0000     2.2026   0.0276    0.0000    0.0000\n",
       "cont11     0.0001     0.0000     3.3029   0.0010    0.0000    0.0002\n",
       "cont12    -0.0002     0.0000    -5.7861   0.0000   -0.0003   -0.0001\n",
       "cont13     0.0000     0.0000     5.0341   0.0000    0.0000    0.0001\n",
       "cont14    -0.0000     0.0000    -7.8635   0.0000   -0.0000   -0.0000\n",
       "==================================================================\n",
       "\n",
       "\"\"\""
      ]
     },
     "execution_count": 47,
     "metadata": {},
     "output_type": "execute_result"
    }
   ],
   "source": [
    "results_continuous"
   ]
  },
  {
   "cell_type": "code",
   "execution_count": 52,
   "metadata": {},
   "outputs": [],
   "source": [
    "results_continuous_significance = results_continuous.tables[1]['P>|z|']\n",
    "continuous_significant_features = list(results_continuous_significance[results_continuous_significance<0.05].index)"
   ]
  },
  {
   "cell_type": "code",
   "execution_count": 54,
   "metadata": {},
   "outputs": [],
   "source": [
    "categorical_significant_features = []"
   ]
  },
  {
   "cell_type": "code",
   "execution_count": 55,
   "metadata": {},
   "outputs": [],
   "source": [
    "for i in range(0, len(cat_features)):\n",
    "    temp_dummy_feature_list = [dummy_cat for dummy_cat in cat_dummy_features if cat_features[i] + '_o' in dummy_cat]\n",
    "    temp_res = train_glm(X_train, y_train, temp_dummy_feature_list)\n",
    "    temp_significance = temp_res.tables[1].loc[temp_dummy_feature_list, 'P>|z|']\n",
    "    categorical_significant_features = categorical_significant_features + list(temp_significance[temp_significance < 0.05].index)"
   ]
  },
  {
   "cell_type": "code",
   "execution_count": 64,
   "metadata": {},
   "outputs": [],
   "source": [
    "significant_features = [x for x in categorical_significant_features + continuous_significant_features if 'const' not in x]"
   ]
  },
  {
   "cell_type": "code",
   "execution_count": 76,
   "metadata": {},
   "outputs": [],
   "source": [
    "glm, results_glm = train_glm(\n",
    "    X_train,\n",
    "    y_train,\n",
    "    significant_features,\n",
    "    output='model'\n",
    ")"
   ]
  },
  {
   "cell_type": "code",
   "execution_count": 223,
   "metadata": {},
   "outputs": [],
   "source": [
    "pred_glm = glm.predict(\n",
    "    exog=sm.add_constant(X_test[significant_features]).astype(float).values,\n",
    "    params=results_glm.params, \n",
    ")"
   ]
  },
  {
   "cell_type": "markdown",
   "metadata": {},
   "source": [
    "# TODO: why are there negative values"
   ]
  },
  {
   "cell_type": "code",
   "execution_count": 95,
   "metadata": {},
   "outputs": [
    {
     "data": {
      "text/html": [
       "<div>\n",
       "<style scoped>\n",
       "    .dataframe tbody tr th:only-of-type {\n",
       "        vertical-align: middle;\n",
       "    }\n",
       "\n",
       "    .dataframe tbody tr th {\n",
       "        vertical-align: top;\n",
       "    }\n",
       "\n",
       "    .dataframe thead th {\n",
       "        text-align: right;\n",
       "    }\n",
       "</style>\n",
       "<table border=\"1\" class=\"dataframe\">\n",
       "  <thead>\n",
       "    <tr style=\"text-align: right;\">\n",
       "      <th></th>\n",
       "      <th>pred</th>\n",
       "      <th>y_test</th>\n",
       "    </tr>\n",
       "  </thead>\n",
       "  <tbody>\n",
       "    <tr>\n",
       "      <th>92922</th>\n",
       "      <td>1320.061365</td>\n",
       "      <td>5.25</td>\n",
       "    </tr>\n",
       "    <tr>\n",
       "      <th>55422</th>\n",
       "      <td>1780.038411</td>\n",
       "      <td>8.40</td>\n",
       "    </tr>\n",
       "    <tr>\n",
       "      <th>40351</th>\n",
       "      <td>1613.858451</td>\n",
       "      <td>20.11</td>\n",
       "    </tr>\n",
       "    <tr>\n",
       "      <th>110722</th>\n",
       "      <td>2074.024340</td>\n",
       "      <td>21.00</td>\n",
       "    </tr>\n",
       "    <tr>\n",
       "      <th>51671</th>\n",
       "      <td>2086.644977</td>\n",
       "      <td>34.26</td>\n",
       "    </tr>\n",
       "  </tbody>\n",
       "</table>\n",
       "</div>"
      ],
      "text/plain": [
       "               pred  y_test\n",
       "92922   1320.061365    5.25\n",
       "55422   1780.038411    8.40\n",
       "40351   1613.858451   20.11\n",
       "110722  2074.024340   21.00\n",
       "51671   2086.644977   34.26"
      ]
     },
     "execution_count": 95,
     "metadata": {},
     "output_type": "execute_result"
    }
   ],
   "source": [
    "comparison.head(5)"
   ]
  },
  {
   "cell_type": "code",
   "execution_count": 96,
   "metadata": {},
   "outputs": [
    {
     "data": {
      "text/html": [
       "<div>\n",
       "<style scoped>\n",
       "    .dataframe tbody tr th:only-of-type {\n",
       "        vertical-align: middle;\n",
       "    }\n",
       "\n",
       "    .dataframe tbody tr th {\n",
       "        vertical-align: top;\n",
       "    }\n",
       "\n",
       "    .dataframe thead th {\n",
       "        text-align: right;\n",
       "    }\n",
       "</style>\n",
       "<table border=\"1\" class=\"dataframe\">\n",
       "  <thead>\n",
       "    <tr style=\"text-align: right;\">\n",
       "      <th></th>\n",
       "      <th>pred</th>\n",
       "      <th>y_test</th>\n",
       "    </tr>\n",
       "  </thead>\n",
       "  <tbody>\n",
       "    <tr>\n",
       "      <th>118666</th>\n",
       "      <td>-3683.043332</td>\n",
       "      <td>51127.50</td>\n",
       "    </tr>\n",
       "    <tr>\n",
       "      <th>13030</th>\n",
       "      <td>2727.584635</td>\n",
       "      <td>51383.04</td>\n",
       "    </tr>\n",
       "    <tr>\n",
       "      <th>113176</th>\n",
       "      <td>7062.159133</td>\n",
       "      <td>59826.79</td>\n",
       "    </tr>\n",
       "    <tr>\n",
       "      <th>125668</th>\n",
       "      <td>-7146.472185</td>\n",
       "      <td>67537.73</td>\n",
       "    </tr>\n",
       "    <tr>\n",
       "      <th>172883</th>\n",
       "      <td>50351.729325</td>\n",
       "      <td>79623.52</td>\n",
       "    </tr>\n",
       "  </tbody>\n",
       "</table>\n",
       "</div>"
      ],
      "text/plain": [
       "                pred    y_test\n",
       "118666  -3683.043332  51127.50\n",
       "13030    2727.584635  51383.04\n",
       "113176   7062.159133  59826.79\n",
       "125668  -7146.472185  67537.73\n",
       "172883  50351.729325  79623.52"
      ]
     },
     "execution_count": 96,
     "metadata": {},
     "output_type": "execute_result"
    }
   ],
   "source": [
    "comparison.tail(5)"
   ]
  },
  {
   "cell_type": "markdown",
   "metadata": {},
   "source": [
    "### Results"
   ]
  },
  {
   "cell_type": "code",
   "execution_count": 182,
   "metadata": {},
   "outputs": [],
   "source": [
    "def rmse(y_test, pred):\n",
    "    return np.sqrt(mean_squared_error(y_test, pred))"
   ]
  },
  {
   "cell_type": "code",
   "execution_count": 183,
   "metadata": {},
   "outputs": [
    {
     "data": {
      "text/plain": [
       "231685.31722080102"
      ]
     },
     "execution_count": 183,
     "metadata": {},
     "output_type": "execute_result"
    }
   ],
   "source": [
    "rmse(y_test, pred)"
   ]
  },
  {
   "cell_type": "code",
   "execution_count": 98,
   "metadata": {},
   "outputs": [],
   "source": [
    "test['pred_glm'] = glm.predict(\n",
    "    exog=sm.add_constant(test[significant_features]).astype(float).values,\n",
    "    params=results_glm.params, \n",
    ")"
   ]
  },
  {
   "cell_type": "markdown",
   "metadata": {},
   "source": [
    "\n",
    "# XGB"
   ]
  },
  {
   "cell_type": "markdown",
   "metadata": {},
   "source": [
    "Parameters"
   ]
  },
  {
   "cell_type": "code",
   "execution_count": 216,
   "metadata": {},
   "outputs": [],
   "source": [
    "params = {\n",
    "    'objective': 'reg:gamma',\n",
    "    'max_depth': 4,\n",
    "    'eta': 0.2,\n",
    "    'eval_metric': 'gamma-nloglik',\n",
    "    'nthread': os.cpu_count() - 1,\n",
    "    'silent': True,\n",
    "    'booster': 'gbtree',\n",
    "    'colsample_bytree': 1,\n",
    "    'gamma': 0,\n",
    "    'max_delta_step': 0,\n",
    "    'min_child_weight': 1,\n",
    "    'subsample': 1,\n",
    "}\n",
    "\n"
   ]
  },
  {
   "cell_type": "code",
   "execution_count": 217,
   "metadata": {},
   "outputs": [],
   "source": [
    "def train_xgb(X_train, y_train, feature_list, params):\n",
    "    \n",
    "    num_boost_round = 1000\n",
    "    cv_folds = 5\n",
    "    early_stopping_rounds = 10\n",
    "    early_stopping_cv_folds = 5\n",
    "    verbose_eval = 10\n",
    "    early_stopping_cv_fold_seed = 42\n",
    "    \n",
    "    X = X_train[feature_list].values\n",
    "    y = y_train.values\n",
    "    \n",
    "    D_train = xgb.DMatrix(\n",
    "        data=X,\n",
    "        label=y,\n",
    "        feature_names=feature_list,\n",
    "        missing=np.nan, \n",
    "    )\n",
    "    \n",
    "    results = xgb.cv(\n",
    "        params=params,\n",
    "        dtrain=D_train,\n",
    "        num_boost_round=num_boost_round,\n",
    "        early_stopping_rounds=early_stopping_rounds,\n",
    "        nfold=early_stopping_cv_folds,\n",
    "        as_pandas=True,\n",
    "        verbose_eval=verbose_eval,\n",
    "        seed=early_stopping_cv_fold_seed\n",
    "    )\n",
    "    \n",
    "    opt_num_boost_round = len(results)\n",
    "\n",
    "    bst = xgb.train(\n",
    "        params=params,\n",
    "        dtrain=D_train,\n",
    "        num_boost_round=opt_num_boost_round,\n",
    "    )\n",
    "    \n",
    "    return bst"
   ]
  },
  {
   "cell_type": "code",
   "execution_count": 218,
   "metadata": {
    "scrolled": false
   },
   "outputs": [
    {
     "name": "stdout",
     "output_type": "stream",
     "text": [
      "[0]\ttrain-gamma-nloglik:4970.88+8.4941\ttest-gamma-nloglik:4970.88+33.9785\n",
      "[10]\ttrain-gamma-nloglik:675.089+1.1495\ttest-gamma-nloglik:675.09+4.60371\n",
      "[20]\ttrain-gamma-nloglik:95.4364+0.155579\ttest-gamma-nloglik:95.4364+0.625583\n",
      "[30]\ttrain-gamma-nloglik:18.6477+0.0211377\ttest-gamma-nloglik:18.6483+0.0870741\n",
      "[40]\ttrain-gamma-nloglik:9.58495+0.00331268\ttest-gamma-nloglik:9.58537+0.0152475\n",
      "[50]\ttrain-gamma-nloglik:8.8968+0.00156116\ttest-gamma-nloglik:8.89765+0.0064399\n",
      "[60]\ttrain-gamma-nloglik:8.85441+0.00159023\ttest-gamma-nloglik:8.8558+0.00571917\n",
      "[70]\ttrain-gamma-nloglik:8.84261+0.00158166\ttest-gamma-nloglik:8.84459+0.00579387\n",
      "[80]\ttrain-gamma-nloglik:8.83677+0.00167166\ttest-gamma-nloglik:8.83935+0.00580396\n",
      "[90]\ttrain-gamma-nloglik:8.83338+0.00180796\ttest-gamma-nloglik:8.83646+0.00580748\n",
      "[100]\ttrain-gamma-nloglik:8.83099+0.00183094\ttest-gamma-nloglik:8.8346+0.00584976\n",
      "[110]\ttrain-gamma-nloglik:8.82919+0.00173921\ttest-gamma-nloglik:8.83331+0.00601651\n",
      "[120]\ttrain-gamma-nloglik:8.82769+0.00174803\ttest-gamma-nloglik:8.83231+0.00602688\n",
      "[130]\ttrain-gamma-nloglik:8.82638+0.00177712\ttest-gamma-nloglik:8.83151+0.00600986\n",
      "[140]\ttrain-gamma-nloglik:8.82525+0.0017929\ttest-gamma-nloglik:8.83086+0.00605655\n",
      "[150]\ttrain-gamma-nloglik:8.82428+0.00181549\ttest-gamma-nloglik:8.83033+0.00609446\n",
      "[160]\ttrain-gamma-nloglik:8.82336+0.00180764\ttest-gamma-nloglik:8.8299+0.0061279\n",
      "[170]\ttrain-gamma-nloglik:8.82255+0.00178167\ttest-gamma-nloglik:8.82954+0.00618977\n",
      "[180]\ttrain-gamma-nloglik:8.8218+0.00174693\ttest-gamma-nloglik:8.82919+0.00624449\n",
      "[190]\ttrain-gamma-nloglik:8.82107+0.00170357\ttest-gamma-nloglik:8.82895+0.00628841\n",
      "[200]\ttrain-gamma-nloglik:8.82045+0.00165883\ttest-gamma-nloglik:8.82877+0.00635842\n",
      "[210]\ttrain-gamma-nloglik:8.81983+0.00165705\ttest-gamma-nloglik:8.82857+0.00636336\n",
      "[220]\ttrain-gamma-nloglik:8.81925+0.00165882\ttest-gamma-nloglik:8.82843+0.00638018\n",
      "[230]\ttrain-gamma-nloglik:8.8187+0.00165441\ttest-gamma-nloglik:8.82829+0.00637932\n",
      "[240]\ttrain-gamma-nloglik:8.81816+0.00166209\ttest-gamma-nloglik:8.82816+0.00634402\n",
      "[250]\ttrain-gamma-nloglik:8.81762+0.00167648\ttest-gamma-nloglik:8.82801+0.00631779\n",
      "[260]\ttrain-gamma-nloglik:8.81713+0.00167196\ttest-gamma-nloglik:8.82794+0.00634118\n",
      "[270]\ttrain-gamma-nloglik:8.8166+0.00167103\ttest-gamma-nloglik:8.82784+0.00637234\n",
      "[280]\ttrain-gamma-nloglik:8.81609+0.00163243\ttest-gamma-nloglik:8.82776+0.00637793\n",
      "[290]\ttrain-gamma-nloglik:8.81562+0.00160894\ttest-gamma-nloglik:8.82768+0.0064094\n",
      "[300]\ttrain-gamma-nloglik:8.81518+0.00159669\ttest-gamma-nloglik:8.82767+0.00640867\n",
      "[310]\ttrain-gamma-nloglik:8.81473+0.00157872\ttest-gamma-nloglik:8.82755+0.0064024\n",
      "[320]\ttrain-gamma-nloglik:8.81428+0.00158572\ttest-gamma-nloglik:8.82747+0.00641477\n",
      "[330]\ttrain-gamma-nloglik:8.81387+0.00155842\ttest-gamma-nloglik:8.82746+0.00642606\n",
      "[340]\ttrain-gamma-nloglik:8.81345+0.00155785\ttest-gamma-nloglik:8.82741+0.00644091\n",
      "[350]\ttrain-gamma-nloglik:8.81303+0.0015153\ttest-gamma-nloglik:8.82739+0.00647676\n",
      "[360]\ttrain-gamma-nloglik:8.8126+0.00153574\ttest-gamma-nloglik:8.82735+0.00649364\n",
      "[370]\ttrain-gamma-nloglik:8.81222+0.00152926\ttest-gamma-nloglik:8.82731+0.00653873\n",
      "[380]\ttrain-gamma-nloglik:8.81182+0.00154823\ttest-gamma-nloglik:8.82726+0.00655551\n",
      "[390]\ttrain-gamma-nloglik:8.81144+0.00154214\ttest-gamma-nloglik:8.82725+0.00657548\n"
     ]
    }
   ],
   "source": [
    "booster = train_xgb(X_train, y_train, cont_features + cat_dummy_features, params)"
   ]
  },
  {
   "cell_type": "code",
   "execution_count": 227,
   "metadata": {},
   "outputs": [],
   "source": [
    "D_test = xgb.DMatrix(    \n",
    "    data=X_test[cont_features + cat_dummy_features].values,\n",
    "    feature_names= cont_features + cat_dummy_features,\n",
    "    missing=np.nan, \n",
    ")\n",
    "\n",
    "pred_xgb = booster.predict(D_test)"
   ]
  },
  {
   "cell_type": "code",
   "execution_count": 229,
   "metadata": {},
   "outputs": [
    {
     "data": {
      "text/plain": [
       "1892.6111022663472"
      ]
     },
     "execution_count": 229,
     "metadata": {},
     "output_type": "execute_result"
    }
   ],
   "source": [
    "rmse(pred_xgb, y_test)"
   ]
  },
  {
   "cell_type": "code",
   "execution_count": 269,
   "metadata": {},
   "outputs": [],
   "source": [
    "D_test_final = xgb.DMatrix(    \n",
    "    data=test[cont_features + cat_dummy_features].values,\n",
    "    feature_names= cont_features + cat_dummy_features,\n",
    "    missing=np.nan, \n",
    ")"
   ]
  },
  {
   "cell_type": "code",
   "execution_count": 337,
   "metadata": {},
   "outputs": [],
   "source": [
    "test['pred_xgb'] = booster.predict(D_test_final)"
   ]
  },
  {
   "cell_type": "markdown",
   "metadata": {},
   "source": [
    "# Random Forest"
   ]
  },
  {
   "cell_type": "code",
   "execution_count": 266,
   "metadata": {},
   "outputs": [],
   "source": [
    "rf = RandomForestRegressor()"
   ]
  },
  {
   "cell_type": "code",
   "execution_count": 268,
   "metadata": {},
   "outputs": [
    {
     "data": {
      "text/plain": [
       "RandomForestRegressor(bootstrap=True, criterion='mse', max_depth=None,\n",
       "           max_features='auto', max_leaf_nodes=None,\n",
       "           min_impurity_decrease=0.0, min_impurity_split=None,\n",
       "           min_samples_leaf=1, min_samples_split=2,\n",
       "           min_weight_fraction_leaf=0.0, n_estimators=10, n_jobs=None,\n",
       "           oob_score=False, random_state=None, verbose=0, warm_start=False)"
      ]
     },
     "execution_count": 268,
     "metadata": {},
     "output_type": "execute_result"
    }
   ],
   "source": [
    "rf.fit(X_train[cont_features + cat_dummy_features], y_train)"
   ]
  },
  {
   "cell_type": "code",
   "execution_count": 271,
   "metadata": {},
   "outputs": [],
   "source": [
    "pred_rf = rf.predict(X_test[cont_features + cat_dummy_features])"
   ]
  },
  {
   "cell_type": "code",
   "execution_count": 272,
   "metadata": {},
   "outputs": [],
   "source": [
    "comparison['pred_rf'] = pred_rf"
   ]
  },
  {
   "cell_type": "code",
   "execution_count": 273,
   "metadata": {},
   "outputs": [
    {
     "data": {
      "text/plain": [
       "2071.159251313066"
      ]
     },
     "execution_count": 273,
     "metadata": {},
     "output_type": "execute_result"
    }
   ],
   "source": [
    "rmse(pred_rf, y_test)"
   ]
  },
  {
   "cell_type": "code",
   "execution_count": 338,
   "metadata": {},
   "outputs": [],
   "source": [
    "test['pred_rf'] = rf.predict(test[cont_features + cat_dummy_features])"
   ]
  },
  {
   "cell_type": "markdown",
   "metadata": {},
   "source": [
    "# Ensemble"
   ]
  },
  {
   "cell_type": "code",
   "execution_count": 299,
   "metadata": {},
   "outputs": [],
   "source": [
    "comparison = pd.DataFrame({\n",
    "    'y_test': y_test['loss'],\n",
    "    'pred_glm': pred,\n",
    "    'pred_rf': pred_rf,\n",
    "    'pred_xgb': pred_xgb,\n",
    "    \n",
    "}).sort_values('y_test')"
   ]
  },
  {
   "cell_type": "code",
   "execution_count": 305,
   "metadata": {},
   "outputs": [],
   "source": [
    "comparison['rf_xgb_ens'] = 0.2 * comparison['pred_rf'] + 0.8 * comparison['pred_xgb']"
   ]
  },
  {
   "cell_type": "code",
   "execution_count": 304,
   "metadata": {},
   "outputs": [
    {
     "data": {
      "text/plain": [
       "1892.6111022663474"
      ]
     },
     "execution_count": 304,
     "metadata": {},
     "output_type": "execute_result"
    }
   ],
   "source": [
    "rmse(comparison['pred_xgb'], comparison['y_test'])"
   ]
  },
  {
   "cell_type": "code",
   "execution_count": 306,
   "metadata": {
    "scrolled": true
   },
   "outputs": [
    {
     "data": {
      "text/plain": [
       "1884.7986343138743"
      ]
     },
     "execution_count": 306,
     "metadata": {},
     "output_type": "execute_result"
    }
   ],
   "source": [
    "rmse(comparison['rf_xgb_ens'], comparison['y_test'])"
   ]
  },
  {
   "cell_type": "markdown",
   "metadata": {},
   "source": [
    "Finding the optimal weights"
   ]
  },
  {
   "cell_type": "code",
   "execution_count": 335,
   "metadata": {},
   "outputs": [
    {
     "name": "stdout",
     "output_type": "stream",
     "text": [
      "Optimal weights: (1.0, 0.0, 0.0) with rmse 231685.317220801\n",
      "Optimal weights: (0.9, 0.1, 0.0) with rmse 208515.05194858552\n",
      "Optimal weights: (0.8, 0.2, 0.0) with rmse 185345.00139176997\n",
      "Optimal weights: (0.7, 0.3, 0.0) with rmse 162175.25758004538\n",
      "Optimal weights: (0.6, 0.4, 0.0) with rmse 139005.97389907457\n",
      "Optimal weights: (0.5, 0.5, 0.0) with rmse 115837.42644916964\n",
      "Optimal weights: (0.4, 0.6, 0.0) with rmse 92670.16743227793\n",
      "Optimal weights: (0.3, 0.7, 0.0) with rmse 69505.48521642639\n",
      "Optimal weights: (0.2, 0.8, 0.0) with rmse 46347.24368901578\n",
      "Optimal weights: (0.1, 0.9, 0.0) with rmse 23214.725884474803\n",
      "Optimal weights: (0.0, 1.0, 0.0) with rmse 1892.6111022663474\n",
      "Optimal weights: (0.0, 0.9, 0.1) with rmse 1885.8765488968004\n",
      "Optimal weights: (0.0, 0.8, 0.2) with rmse 1884.7986343138743\n"
     ]
    }
   ],
   "source": [
    "smallest_rmse = np.inf\n",
    "\n",
    "lin_space = np.linspace(0,1,11)\n",
    "\n",
    "for z in lin_space:\n",
    "    for y in lin_space:\n",
    "        for x in lin_space:\n",
    "            if x + y + z == 1:\n",
    "                x = np.round(x,1)\n",
    "                y = np.round(y,1)\n",
    "                z = np.round(z,1)\n",
    "                \n",
    "                comparison['optimal_stack_ensemble'] = x * comparison['pred_glm'] + y * comparison['pred_xgb'] + z * comparison['pred_rf']\n",
    "                \n",
    "                previous_rmse = smallest_rmse\n",
    "                current_rmse = rmse(comparison['optimal_stack_ensemble'], comparison['y_test'])\n",
    "                \n",
    "                if current_rmse < smallest_rmse:\n",
    "                    smallest_rmse = current_rmse\n",
    "                    print('Optimal weights: {} with rmse {}'.format((x,y,z), smallest_rmse))\n",
    "                    comparison['optimal_stack_ensemble'] = x * comparison['pred_glm'] + y * comparison['pred_xgb'] + z * comparison['pred_rf']\n",
    "                \n",
    "#                 print(x, y, z)\n"
   ]
  },
  {
   "cell_type": "markdown",
   "metadata": {},
   "source": [
    "### Predicting which model to use"
   ]
  },
  {
   "cell_type": "code",
   "execution_count": 400,
   "metadata": {},
   "outputs": [
    {
     "data": {
      "text/plain": [
       "['y_test',\n",
       " 'pred_glm',\n",
       " 'pred_rf',\n",
       " 'pred_xgb',\n",
       " 'difference_pred_glm',\n",
       " 'absolute_difference_pred_glm',\n",
       " 'difference_pred_rf',\n",
       " 'absolute_difference_pred_rf',\n",
       " 'difference_pred_xgb',\n",
       " 'absolute_difference_pred_xgb',\n",
       " 'rf_xgb_ens',\n",
       " 'optimal_stack_ensemble']"
      ]
     },
     "execution_count": 400,
     "metadata": {},
     "output_type": "execute_result"
    }
   ],
   "source": [
    "list(comparison)"
   ]
  },
  {
   "cell_type": "code",
   "execution_count": 409,
   "metadata": {},
   "outputs": [
    {
     "data": {
      "text/html": [
       "<div>\n",
       "<style scoped>\n",
       "    .dataframe tbody tr th:only-of-type {\n",
       "        vertical-align: middle;\n",
       "    }\n",
       "\n",
       "    .dataframe tbody tr th {\n",
       "        vertical-align: top;\n",
       "    }\n",
       "\n",
       "    .dataframe thead th {\n",
       "        text-align: right;\n",
       "    }\n",
       "</style>\n",
       "<table border=\"1\" class=\"dataframe\">\n",
       "  <thead>\n",
       "    <tr style=\"text-align: right;\">\n",
       "      <th></th>\n",
       "      <th>count</th>\n",
       "      <th>mean</th>\n",
       "      <th>std</th>\n",
       "      <th>min</th>\n",
       "      <th>25%</th>\n",
       "      <th>50%</th>\n",
       "      <th>75%</th>\n",
       "      <th>max</th>\n",
       "    </tr>\n",
       "  </thead>\n",
       "  <tbody>\n",
       "    <tr>\n",
       "      <th>pred_glm</th>\n",
       "      <td>62145.0</td>\n",
       "      <td>3774.394407</td>\n",
       "      <td>231741.280956</td>\n",
       "      <td>-1.849444e+07</td>\n",
       "      <td>1768.682225</td>\n",
       "      <td>2205.659934</td>\n",
       "      <td>3026.313478</td>\n",
       "      <td>4.951430e+07</td>\n",
       "    </tr>\n",
       "    <tr>\n",
       "      <th>pred_rf</th>\n",
       "      <td>62145.0</td>\n",
       "      <td>3072.835961</td>\n",
       "      <td>2234.883935</td>\n",
       "      <td>2.782340e+02</td>\n",
       "      <td>1631.317000</td>\n",
       "      <td>2413.441000</td>\n",
       "      <td>3768.119000</td>\n",
       "      <td>9.145020e+04</td>\n",
       "    </tr>\n",
       "    <tr>\n",
       "      <th>pred_xgb</th>\n",
       "      <td>62145.0</td>\n",
       "      <td>3004.416748</td>\n",
       "      <td>2237.456543</td>\n",
       "      <td>4.823224e+02</td>\n",
       "      <td>1600.835693</td>\n",
       "      <td>2276.151367</td>\n",
       "      <td>3617.894043</td>\n",
       "      <td>6.622472e+04</td>\n",
       "    </tr>\n",
       "    <tr>\n",
       "      <th>optimal_stack_ensemble</th>\n",
       "      <td>62145.0</td>\n",
       "      <td>3072.835961</td>\n",
       "      <td>2234.883935</td>\n",
       "      <td>2.782340e+02</td>\n",
       "      <td>1631.317000</td>\n",
       "      <td>2413.441000</td>\n",
       "      <td>3768.119000</td>\n",
       "      <td>9.145020e+04</td>\n",
       "    </tr>\n",
       "    <tr>\n",
       "      <th>y_test</th>\n",
       "      <td>62145.0</td>\n",
       "      <td>3040.200847</td>\n",
       "      <td>2880.910445</td>\n",
       "      <td>5.250000e+00</td>\n",
       "      <td>1205.490000</td>\n",
       "      <td>2117.700000</td>\n",
       "      <td>3887.870000</td>\n",
       "      <td>7.962352e+04</td>\n",
       "    </tr>\n",
       "  </tbody>\n",
       "</table>\n",
       "</div>"
      ],
      "text/plain": [
       "                          count         mean            std           min  \\\n",
       "pred_glm                62145.0  3774.394407  231741.280956 -1.849444e+07   \n",
       "pred_rf                 62145.0  3072.835961    2234.883935  2.782340e+02   \n",
       "pred_xgb                62145.0  3004.416748    2237.456543  4.823224e+02   \n",
       "optimal_stack_ensemble  62145.0  3072.835961    2234.883935  2.782340e+02   \n",
       "y_test                  62145.0  3040.200847    2880.910445  5.250000e+00   \n",
       "\n",
       "                                25%          50%          75%           max  \n",
       "pred_glm                1768.682225  2205.659934  3026.313478  4.951430e+07  \n",
       "pred_rf                 1631.317000  2413.441000  3768.119000  9.145020e+04  \n",
       "pred_xgb                1600.835693  2276.151367  3617.894043  6.622472e+04  \n",
       "optimal_stack_ensemble  1631.317000  2413.441000  3768.119000  9.145020e+04  \n",
       "y_test                  1205.490000  2117.700000  3887.870000  7.962352e+04  "
      ]
     },
     "execution_count": 409,
     "metadata": {},
     "output_type": "execute_result"
    }
   ],
   "source": [
    "comparison[\n",
    "    ['pred_glm', 'pred_rf', 'pred_xgb', 'optimal_stack_ensemble', 'y_test']\n",
    "].describe().T"
   ]
  },
  {
   "cell_type": "code",
   "execution_count": 406,
   "metadata": {
    "scrolled": true
   },
   "outputs": [
    {
     "data": {
      "text/plain": [
       "y_test                          False\n",
       "pred_glm                         True\n",
       "pred_rf                         False\n",
       "pred_xgb                        False\n",
       "difference_pred_glm              True\n",
       "absolute_difference_pred_glm    False\n",
       "difference_pred_rf               True\n",
       "absolute_difference_pred_rf     False\n",
       "difference_pred_xgb              True\n",
       "absolute_difference_pred_xgb    False\n",
       "rf_xgb_ens                      False\n",
       "optimal_stack_ensemble          False\n",
       "dtype: bool"
      ]
     },
     "execution_count": 406,
     "metadata": {},
     "output_type": "execute_result"
    }
   ],
   "source": [
    "(comparison < 0).any()"
   ]
  },
  {
   "cell_type": "code",
   "execution_count": null,
   "metadata": {},
   "outputs": [],
   "source": [
    "fig, ax = plt.subplots(figsize=(10,10))\n",
    "for i in range(len(list_of_risk_proxies)):\n",
    "    y = lorenz_curve(df[list_of_risk_proxies[i]], df[loss])\n",
    "    score_y = score(y[0], y[1])\n",
    "\n",
    "    legend = list_of_risk_proxies[i] + ', score: ' + str(np.round(score_y,2))\n",
    "\n",
    "    ax.plot(y[0], y[1], label=legend);\n",
    "\n",
    "ax.set_xlim(0,1.01)\n",
    "ax.set_ylim(0,1.01)\n",
    "ax.plot(ax.get_xlim(), ax.get_ylim(), ls=\"--\", c=\".3\")\n",
    "ax.legend()"
   ]
  },
  {
   "cell_type": "code",
   "execution_count": 412,
   "metadata": {},
   "outputs": [
    {
     "data": {
      "image/png": "[encoded data removed]",
      "text/plain": [
       "<Figure size 720x720 with 1 Axes>"
      ]
     },
     "metadata": {
      "needs_background": "light"
     },
     "output_type": "display_data"
    }
   ],
   "source": [
    "lorenz_plot(\n",
    "    comparison,\n",
    "    ['optimal_stack_ensemble'],\n",
    "    'y_test'   \n",
    ")"
   ]
  },
  {
   "cell_type": "markdown",
   "metadata": {},
   "source": [
    "# Shap values"
   ]
  },
  {
   "cell_type": "markdown",
   "metadata": {
    "collapsed": true
   },
   "source": [
    "Placeholder"
   ]
  },
  {
   "cell_type": "markdown",
   "metadata": {},
   "source": [
    "# Results "
   ]
  },
  {
   "cell_type": "code",
   "execution_count": 340,
   "metadata": {},
   "outputs": [],
   "source": [
    "test['optimal_stack_ensemble'] = 0.8 * test['pred_xgb'] + 0.2 * test['pred_rf']"
   ]
  },
  {
   "cell_type": "code",
   "execution_count": 343,
   "metadata": {},
   "outputs": [],
   "source": [
    "sample_submission['loss'] = test['optimal_stack_ensemble']"
   ]
  },
  {
   "cell_type": "code",
   "execution_count": null,
   "metadata": {},
   "outputs": [],
   "source": []
  }
 ],
 "metadata": {
  "kernelspec": {
   "display_name": "Python 3",
   "language": "python",
   "name": "python3"
  },
  "language_info": {
   "codemirror_mode": {
    "name": "ipython",
    "version": 3
   },
   "file_extension": ".py",
   "mimetype": "text/x-python",
   "name": "python",
   "nbconvert_exporter": "python",
   "pygments_lexer": "ipython3",
   "version": "3.6.7"
  }
 },
 "nbformat": 4,
 "nbformat_minor": 2
}
