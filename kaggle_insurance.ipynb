{
 "cells": [
  {
   "cell_type": "markdown",
   "metadata": {},
   "source": [
    "# Ensemble experiments on insurance data"
   ]
  },
  {
   "cell_type": "markdown",
   "metadata": {},
   "source": [
    "The goal of this notebook is to explore different methods of ensembling model outputs. Ensemble models can be used when you have several models to predict the same target, and your aim is to combine. \n",
    "\n",
    "Content:\n",
    "1. Imports \n",
    "2. Exploration\n",
    "3. Train a Generalised Linear Model, XGBoost and Random Forest\n",
    "4. Weighted average ensemble \n",
    "5. Stacking \n",
    "6. Conclusion"
   ]
  },
  {
   "cell_type": "markdown",
   "metadata": {},
   "source": [
    "# Imports "
   ]
  },
  {
   "cell_type": "code",
   "execution_count": 1,
   "metadata": {},
   "outputs": [],
   "source": [
    "import os\n",
    "import warnings\n",
    "\n",
    "\n",
    "\n",
    "import matplotlib.pyplot as plt\n",
    "import numpy as np\n",
    "import pandas as pd\n",
    "import statsmodels.formula.api as smf\n",
    "import statsmodels.api as sm\n",
    "import xgboost as xgb\n",
    "\n",
    "from scipy.integrate import trapz\n",
    "from scipy.optimize import linprog\n",
    "from sklearn.ensemble import RandomForestRegressor, RandomForestClassifier\n",
    "from sklearn.metrics import mean_squared_error\n",
    "from sklearn.model_selection import train_test_split\n",
    "\n",
    "warnings.filterwarnings('ignore')"
   ]
  },
  {
   "cell_type": "code",
   "execution_count": 2,
   "metadata": {},
   "outputs": [],
   "source": [
    "# train = pd.read_csv('data/train.csv')\n",
    "# test = pd.read_csv('data/test.csv')\n",
    "# sample_submission = pd.read_csv('data/sample_submission.csv')\n",
    "train = pd.read_csv('gs://cytora-user-wout/train.csv')\n",
    "test = pd.read_csv('gs://cytora-user-wout/test.csv')\n",
    "sample_submission = pd.read_csv('gs://cytora-user-wout/sample_submission.csv')"
   ]
  },
  {
   "cell_type": "markdown",
   "metadata": {},
   "source": [
    "# Data exploration"
   ]
  },
  {
   "cell_type": "markdown",
   "metadata": {},
   "source": [
    "The dataset comes from [kaggle](https://www.kaggle.com/c/allstate-claims-severity/data). It's a claims dataset from some insurer. All rows represent one claim, there is one unique identifyer, 130 features and one loss column which represents the monetary amount of the loss. "
   ]
  },
  {
   "cell_type": "code",
   "execution_count": 66,
   "metadata": {},
   "outputs": [
    {
     "data": {
      "text/html": [
       "<div>\n",
       "<style scoped>\n",
       "    .dataframe tbody tr th:only-of-type {\n",
       "        vertical-align: middle;\n",
       "    }\n",
       "\n",
       "    .dataframe tbody tr th {\n",
       "        vertical-align: top;\n",
       "    }\n",
       "\n",
       "    .dataframe thead th {\n",
       "        text-align: right;\n",
       "    }\n",
       "</style>\n",
       "<table border=\"1\" class=\"dataframe\">\n",
       "  <thead>\n",
       "    <tr style=\"text-align: right;\">\n",
       "      <th></th>\n",
       "      <th>id</th>\n",
       "      <th>cat1</th>\n",
       "      <th>cat2</th>\n",
       "      <th>cat3</th>\n",
       "      <th>cat4</th>\n",
       "      <th>cat5</th>\n",
       "      <th>cat6</th>\n",
       "      <th>cat7</th>\n",
       "      <th>cat8</th>\n",
       "      <th>cat9</th>\n",
       "      <th>...</th>\n",
       "      <th>cont6</th>\n",
       "      <th>cont7</th>\n",
       "      <th>cont8</th>\n",
       "      <th>cont9</th>\n",
       "      <th>cont10</th>\n",
       "      <th>cont11</th>\n",
       "      <th>cont12</th>\n",
       "      <th>cont13</th>\n",
       "      <th>cont14</th>\n",
       "      <th>loss</th>\n",
       "    </tr>\n",
       "  </thead>\n",
       "  <tbody>\n",
       "    <tr>\n",
       "      <th>0</th>\n",
       "      <td>1</td>\n",
       "      <td>A</td>\n",
       "      <td>B</td>\n",
       "      <td>A</td>\n",
       "      <td>B</td>\n",
       "      <td>A</td>\n",
       "      <td>A</td>\n",
       "      <td>A</td>\n",
       "      <td>A</td>\n",
       "      <td>B</td>\n",
       "      <td>...</td>\n",
       "      <td>0.718367</td>\n",
       "      <td>0.335060</td>\n",
       "      <td>0.30260</td>\n",
       "      <td>0.67135</td>\n",
       "      <td>0.83510</td>\n",
       "      <td>0.569745</td>\n",
       "      <td>0.594646</td>\n",
       "      <td>0.822493</td>\n",
       "      <td>0.714843</td>\n",
       "      <td>2213.18</td>\n",
       "    </tr>\n",
       "    <tr>\n",
       "      <th>1</th>\n",
       "      <td>2</td>\n",
       "      <td>A</td>\n",
       "      <td>B</td>\n",
       "      <td>A</td>\n",
       "      <td>A</td>\n",
       "      <td>A</td>\n",
       "      <td>A</td>\n",
       "      <td>A</td>\n",
       "      <td>A</td>\n",
       "      <td>B</td>\n",
       "      <td>...</td>\n",
       "      <td>0.438917</td>\n",
       "      <td>0.436585</td>\n",
       "      <td>0.60087</td>\n",
       "      <td>0.35127</td>\n",
       "      <td>0.43919</td>\n",
       "      <td>0.338312</td>\n",
       "      <td>0.366307</td>\n",
       "      <td>0.611431</td>\n",
       "      <td>0.304496</td>\n",
       "      <td>1283.60</td>\n",
       "    </tr>\n",
       "    <tr>\n",
       "      <th>2</th>\n",
       "      <td>5</td>\n",
       "      <td>A</td>\n",
       "      <td>B</td>\n",
       "      <td>A</td>\n",
       "      <td>A</td>\n",
       "      <td>B</td>\n",
       "      <td>A</td>\n",
       "      <td>A</td>\n",
       "      <td>A</td>\n",
       "      <td>B</td>\n",
       "      <td>...</td>\n",
       "      <td>0.289648</td>\n",
       "      <td>0.315545</td>\n",
       "      <td>0.27320</td>\n",
       "      <td>0.26076</td>\n",
       "      <td>0.32446</td>\n",
       "      <td>0.381398</td>\n",
       "      <td>0.373424</td>\n",
       "      <td>0.195709</td>\n",
       "      <td>0.774425</td>\n",
       "      <td>3005.09</td>\n",
       "    </tr>\n",
       "    <tr>\n",
       "      <th>3</th>\n",
       "      <td>10</td>\n",
       "      <td>B</td>\n",
       "      <td>B</td>\n",
       "      <td>A</td>\n",
       "      <td>B</td>\n",
       "      <td>A</td>\n",
       "      <td>A</td>\n",
       "      <td>A</td>\n",
       "      <td>A</td>\n",
       "      <td>B</td>\n",
       "      <td>...</td>\n",
       "      <td>0.440945</td>\n",
       "      <td>0.391128</td>\n",
       "      <td>0.31796</td>\n",
       "      <td>0.32128</td>\n",
       "      <td>0.44467</td>\n",
       "      <td>0.327915</td>\n",
       "      <td>0.321570</td>\n",
       "      <td>0.605077</td>\n",
       "      <td>0.602642</td>\n",
       "      <td>939.85</td>\n",
       "    </tr>\n",
       "    <tr>\n",
       "      <th>4</th>\n",
       "      <td>11</td>\n",
       "      <td>A</td>\n",
       "      <td>B</td>\n",
       "      <td>A</td>\n",
       "      <td>B</td>\n",
       "      <td>A</td>\n",
       "      <td>A</td>\n",
       "      <td>A</td>\n",
       "      <td>A</td>\n",
       "      <td>B</td>\n",
       "      <td>...</td>\n",
       "      <td>0.178193</td>\n",
       "      <td>0.247408</td>\n",
       "      <td>0.24564</td>\n",
       "      <td>0.22089</td>\n",
       "      <td>0.21230</td>\n",
       "      <td>0.204687</td>\n",
       "      <td>0.202213</td>\n",
       "      <td>0.246011</td>\n",
       "      <td>0.432606</td>\n",
       "      <td>2763.85</td>\n",
       "    </tr>\n",
       "  </tbody>\n",
       "</table>\n",
       "<p>5 rows × 132 columns</p>\n",
       "</div>"
      ],
      "text/plain": [
       "   id cat1 cat2 cat3 cat4 cat5 cat6 cat7 cat8 cat9  ...     cont6     cont7  \\\n",
       "0   1    A    B    A    B    A    A    A    A    B  ...  0.718367  0.335060   \n",
       "1   2    A    B    A    A    A    A    A    A    B  ...  0.438917  0.436585   \n",
       "2   5    A    B    A    A    B    A    A    A    B  ...  0.289648  0.315545   \n",
       "3  10    B    B    A    B    A    A    A    A    B  ...  0.440945  0.391128   \n",
       "4  11    A    B    A    B    A    A    A    A    B  ...  0.178193  0.247408   \n",
       "\n",
       "     cont8    cont9   cont10    cont11    cont12    cont13    cont14     loss  \n",
       "0  0.30260  0.67135  0.83510  0.569745  0.594646  0.822493  0.714843  2213.18  \n",
       "1  0.60087  0.35127  0.43919  0.338312  0.366307  0.611431  0.304496  1283.60  \n",
       "2  0.27320  0.26076  0.32446  0.381398  0.373424  0.195709  0.774425  3005.09  \n",
       "3  0.31796  0.32128  0.44467  0.327915  0.321570  0.605077  0.602642   939.85  \n",
       "4  0.24564  0.22089  0.21230  0.204687  0.202213  0.246011  0.432606  2763.85  \n",
       "\n",
       "[5 rows x 132 columns]"
      ]
     },
     "execution_count": 66,
     "metadata": {},
     "output_type": "execute_result"
    }
   ],
   "source": [
    "train.head()"
   ]
  },
  {
   "cell_type": "markdown",
   "metadata": {},
   "source": [
    "## Train"
   ]
  },
  {
   "cell_type": "code",
   "execution_count": 63,
   "metadata": {
    "scrolled": true
   },
   "outputs": [
    {
     "data": {
      "text/plain": [
       "(188318, 589)"
      ]
     },
     "execution_count": 63,
     "metadata": {},
     "output_type": "execute_result"
    }
   ],
   "source": [
    "train.shape"
   ]
  },
  {
   "cell_type": "code",
   "execution_count": 4,
   "metadata": {},
   "outputs": [
    {
     "name": "stdout",
     "output_type": "stream",
     "text": [
      "116 categorical features\n",
      "14 of continuous features: \n"
     ]
    }
   ],
   "source": [
    "cat_features = [feature for feature in list(train) if 'cat' in feature]\n",
    "print('{} categorical features'.format(len(cat_features)))\n",
    "\n",
    "cont_features = [feature for feature in list(train) if 'cont' in feature]\n",
    "print('{} of continuous features: '.format(len(cont_features)))"
   ]
  },
  {
   "cell_type": "markdown",
   "metadata": {},
   "source": [
    "Ensure we captured all features"
   ]
  },
  {
   "cell_type": "code",
   "execution_count": 5,
   "metadata": {},
   "outputs": [],
   "source": [
    "assert len(cat_features) + len(cont_features) + 2 == train.shape[1] # The 2 in this line represents the id and loss column"
   ]
  },
  {
   "cell_type": "markdown",
   "metadata": {},
   "source": [
    "### Categorical features "
   ]
  },
  {
   "cell_type": "markdown",
   "metadata": {},
   "source": [
    "How many categories do the categorical features have? "
   ]
  },
  {
   "cell_type": "code",
   "execution_count": 6,
   "metadata": {},
   "outputs": [],
   "source": [
    "cat_nr_dict = {}\n",
    "\n",
    "for cat in cat_features:\n",
    "    cat_nr_dict[cat] = train[cat].nunique()"
   ]
  },
  {
   "cell_type": "code",
   "execution_count": 7,
   "metadata": {},
   "outputs": [],
   "source": [
    "cat_nr_series = pd.Series(cat_nr_dict)"
   ]
  },
  {
   "cell_type": "code",
   "execution_count": 10,
   "metadata": {},
   "outputs": [
    {
     "data": {
      "image/png": "[encoded data removed]",
      "text/plain": [
       "<Figure size 432x288 with 1 Axes>"
      ]
     },
     "metadata": {
      "needs_background": "light"
     },
     "output_type": "display_data"
    }
   ],
   "source": [
    "cat_nr_series.value_counts().sort_index(ascending=False).plot('barh', title='Number of categories');"
   ]
  },
  {
   "cell_type": "markdown",
   "metadata": {},
   "source": [
    "In this graph we see most categorical variables only have 2 unique entries. There are a couple columns that have more than 50 categories. Small categories might add noise to a model, especially when you need to convert categories to dummies, which is the case for GLMs in statsmodels and XGBoost, which both are unable to read strings. "
   ]
  },
  {
   "cell_type": "code",
   "execution_count": 11,
   "metadata": {},
   "outputs": [
    {
     "name": "stdout",
     "output_type": "stream",
     "text": [
      "Nr of categories:  23\n",
      "Perc of categories smaller than 1%:  0.5217391304347826\n",
      "\n",
      "Nr of categories:  51\n",
      "Perc of categories smaller than 1%:  0.5882352941176471\n",
      "\n",
      "Nr of categories:  61\n",
      "Perc of categories smaller than 1%:  0.5737704918032787\n",
      "\n",
      "Nr of categories:  84\n",
      "Perc of categories smaller than 1%:  0.9523809523809523\n",
      "\n",
      "Nr of categories:  131\n",
      "Perc of categories smaller than 1%:  0.8625954198473282\n",
      "\n",
      "Nr of categories:  326\n",
      "Perc of categories smaller than 1%:  0.9233128834355828\n",
      "\n"
     ]
    }
   ],
   "source": [
    "for i in cat_nr_series.value_counts().sort_index()[-6:].index:\n",
    "    \n",
    "    perc = sum(train[cat_nr_series[cat_nr_series == i].index[0]].value_counts(normalize=1) < 0.01) / i\n",
    "\n",
    "    print('Nr of categories: ', i)\n",
    "    print('Perc of categories smaller than 1%: ', perc)\n",
    "    print()"
   ]
  },
  {
   "cell_type": "markdown",
   "metadata": {},
   "source": [
    "For the algorithms where we need to create dummies from categorical variables, we can cut off at category being represented in <1% of the rows"
   ]
  },
  {
   "cell_type": "code",
   "execution_count": 12,
   "metadata": {},
   "outputs": [],
   "source": [
    "def to_other_cat(df, col, cut_off):\n",
    "    \"\"\"Converts categories below cut off value to other\"\"\"\n",
    "    df = df.copy()\n",
    "    vc = df[col].value_counts(normalize=1)\n",
    "    small_category = vc < cut_off\n",
    "    small_category_list = list(small_category.index[small_category])\n",
    "    small_category_filter = df[col].isin(small_category_list)\n",
    "    df.loc[small_category_filter, col] = 'other'\n",
    "    return df[col]"
   ]
  },
  {
   "cell_type": "markdown",
   "metadata": {},
   "source": [
    "Let's create the columns in both the train and test dataset. In the test set, different categories might fall under 1%, therefore we write this in the same for loop"
   ]
  },
  {
   "cell_type": "code",
   "execution_count": 13,
   "metadata": {
    "scrolled": false
   },
   "outputs": [],
   "source": [
    "cut_off = 0.01\n",
    "\n",
    "for feat in cat_features:\n",
    "    train[feat + '_o'] = to_other_cat(train, feat, 0.01)\n",
    "    \n",
    "    # we need to ensure the same categories exist in the test set for when we make predictions\n",
    "    test[feat + '_o'] = test[feat]\n",
    "    \n",
    "    keep_list = list(set(train[feat + '_o']))\n",
    "\n",
    "    test.loc[~test[feat].isin(keep_list), feat + '_o'] = 'other'"
   ]
  },
  {
   "cell_type": "markdown",
   "metadata": {},
   "source": [
    "Let's create the dummy categories based on our new columns as well"
   ]
  },
  {
   "cell_type": "code",
   "execution_count": 14,
   "metadata": {},
   "outputs": [],
   "source": [
    "cat_other_features = [feat for feat in list(train) if '_o' in feat]"
   ]
  },
  {
   "cell_type": "code",
   "execution_count": 15,
   "metadata": {},
   "outputs": [],
   "source": [
    "cat_dummy_features = []\n",
    "\n",
    "for feat in cat_other_features:\n",
    "    train_dummy_df = pd.get_dummies(train[feat], prefix=feat, drop_first=True)\n",
    "    \n",
    "    dummy_features = list(train_dummy_df)\n",
    "    \n",
    "    train[dummy_features] = train_dummy_df\n",
    "    \n",
    "    cat_dummy_features = cat_dummy_features + dummy_features\n",
    "    \n",
    "    test_dummy_df = pd.get_dummies(test[feat], prefix=feat)\n",
    "    \n",
    "    test[dummy_features] = test_dummy_df[dummy_features]"
   ]
  },
  {
   "cell_type": "markdown",
   "metadata": {},
   "source": [
    "Assert test and train contain the exact same columns, exept for the target variable in the train dataset"
   ]
  },
  {
   "cell_type": "code",
   "execution_count": 16,
   "metadata": {},
   "outputs": [],
   "source": [
    "assert set(list(test)) - set(list(train)) == set()"
   ]
  },
  {
   "cell_type": "code",
   "execution_count": 17,
   "metadata": {},
   "outputs": [],
   "source": [
    "assert set(list(train)) - set(list(test)) == {'loss'}"
   ]
  },
  {
   "cell_type": "markdown",
   "metadata": {},
   "source": [
    "The cat_dummy_features should all be boolean now"
   ]
  },
  {
   "cell_type": "code",
   "execution_count": 18,
   "metadata": {},
   "outputs": [],
   "source": [
    "assert (train[cat_dummy_features].dtypes == 'uint8').all()"
   ]
  },
  {
   "cell_type": "markdown",
   "metadata": {},
   "source": [
    "Random slice of the categoricals"
   ]
  },
  {
   "cell_type": "code",
   "execution_count": 19,
   "metadata": {},
   "outputs": [
    {
     "data": {
      "text/html": [
       "<div>\n",
       "<style scoped>\n",
       "    .dataframe tbody tr th:only-of-type {\n",
       "        vertical-align: middle;\n",
       "    }\n",
       "\n",
       "    .dataframe tbody tr th {\n",
       "        vertical-align: top;\n",
       "    }\n",
       "\n",
       "    .dataframe thead th {\n",
       "        text-align: right;\n",
       "    }\n",
       "</style>\n",
       "<table border=\"1\" class=\"dataframe\">\n",
       "  <thead>\n",
       "    <tr style=\"text-align: right;\">\n",
       "      <th></th>\n",
       "      <th>cat113_o_H</th>\n",
       "      <th>cat115_o_L</th>\n",
       "      <th>cat105_o_other</th>\n",
       "      <th>cat79_o_B</th>\n",
       "      <th>cat107_o_F</th>\n",
       "    </tr>\n",
       "  </thead>\n",
       "  <tbody>\n",
       "    <tr>\n",
       "      <th>83240</th>\n",
       "      <td>0</td>\n",
       "      <td>0</td>\n",
       "      <td>0</td>\n",
       "      <td>1</td>\n",
       "      <td>1</td>\n",
       "    </tr>\n",
       "    <tr>\n",
       "      <th>169672</th>\n",
       "      <td>0</td>\n",
       "      <td>0</td>\n",
       "      <td>0</td>\n",
       "      <td>1</td>\n",
       "      <td>0</td>\n",
       "    </tr>\n",
       "    <tr>\n",
       "      <th>177331</th>\n",
       "      <td>0</td>\n",
       "      <td>0</td>\n",
       "      <td>0</td>\n",
       "      <td>0</td>\n",
       "      <td>1</td>\n",
       "    </tr>\n",
       "    <tr>\n",
       "      <th>158319</th>\n",
       "      <td>0</td>\n",
       "      <td>0</td>\n",
       "      <td>0</td>\n",
       "      <td>1</td>\n",
       "      <td>0</td>\n",
       "    </tr>\n",
       "    <tr>\n",
       "      <th>66773</th>\n",
       "      <td>0</td>\n",
       "      <td>0</td>\n",
       "      <td>0</td>\n",
       "      <td>1</td>\n",
       "      <td>1</td>\n",
       "    </tr>\n",
       "  </tbody>\n",
       "</table>\n",
       "</div>"
      ],
      "text/plain": [
       "        cat113_o_H  cat115_o_L  cat105_o_other  cat79_o_B  cat107_o_F\n",
       "83240            0           0               0          1           1\n",
       "169672           0           0               0          1           0\n",
       "177331           0           0               0          0           1\n",
       "158319           0           0               0          1           0\n",
       "66773            0           0               0          1           1"
      ]
     },
     "execution_count": 19,
     "metadata": {},
     "output_type": "execute_result"
    }
   ],
   "source": [
    "train[cat_dummy_features].sample(5).T.sample(5).T"
   ]
  },
  {
   "cell_type": "markdown",
   "metadata": {},
   "source": [
    "### Continuous features "
   ]
  },
  {
   "cell_type": "markdown",
   "metadata": {},
   "source": [
    "Let's take a look at the distributions "
   ]
  },
  {
   "cell_type": "code",
   "execution_count": 20,
   "metadata": {},
   "outputs": [
    {
     "data": {
      "text/plain": [
       "''"
      ]
     },
     "execution_count": 20,
     "metadata": {},
     "output_type": "execute_result"
    },
    {
     "data": {
      "image/png": "[encoded data removed]",
      "text/plain": [
       "<Figure size 1440x504 with 14 Axes>"
      ]
     },
     "metadata": {
      "needs_background": "light"
     },
     "output_type": "display_data"
    }
   ],
   "source": [
    "fig, ax = plt.subplots(ncols=7, nrows=2, figsize=(20, 7))\n",
    "\n",
    "k=0\n",
    "for j in range(2):\n",
    "    for i in range(7):\n",
    "        ax[j,i].hist(train[cont_features[k]], bins=50)\n",
    "        ax[j,i].set_title(cont_features[k])\n",
    "        k+=1\n",
    ";"
   ]
  },
  {
   "cell_type": "markdown",
   "metadata": {},
   "source": [
    "They all seem nicely spread between 0 and 1 and it seems there is no need to logtransform"
   ]
  },
  {
   "cell_type": "markdown",
   "metadata": {},
   "source": [
    "Maybe cont2 can be changed to categorical variable."
   ]
  },
  {
   "cell_type": "code",
   "execution_count": 21,
   "metadata": {},
   "outputs": [
    {
     "name": "stdout",
     "output_type": "stream",
     "text": [
      "Cont2 has 33 unique elements\n"
     ]
    }
   ],
   "source": [
    "c2_un = train['cont2'].nunique()\n",
    "print('Cont2 has {} unique elements'.format(c2_un))"
   ]
  },
  {
   "cell_type": "markdown",
   "metadata": {},
   "source": [
    "Hard to determine without context on what the variable represents, might be something like age in which case continuous makes sense. "
   ]
  },
  {
   "cell_type": "markdown",
   "metadata": {},
   "source": [
    "### Target variable"
   ]
  },
  {
   "cell_type": "markdown",
   "metadata": {},
   "source": [
    "Let's look at the distribution of the target variable"
   ]
  },
  {
   "cell_type": "code",
   "execution_count": 70,
   "metadata": {},
   "outputs": [
    {
     "data": {
      "image/png": "[encoded data removed]",
      "text/plain": [
       "<Figure size 720x360 with 2 Axes>"
      ]
     },
     "metadata": {
      "needs_background": "light"
     },
     "output_type": "display_data"
    }
   ],
   "source": [
    "fig, ax = plt.subplots(ncols=2, figsize=(10, 5))\n",
    "ax[0].hist(train['loss'], bins=50);\n",
    "ax[0].set_title('Loss')\n",
    "ax[1].hist(np.log10(train['loss']), bins=50);\n",
    "ax[1].set_title('Loss (log transformed)');"
   ]
  },
  {
   "cell_type": "markdown",
   "metadata": {},
   "source": [
    "A typical distribution for insurance claims is the [Gamma distribution](https://en.wikipedia.org/wiki/Gamma_distribution). By eyeballing it seems like this is is the case here as well, for now we'll assume a Gamma distribution. "
   ]
  },
  {
   "cell_type": "markdown",
   "metadata": {},
   "source": [
    "## Test +  sample submission"
   ]
  },
  {
   "cell_type": "code",
   "execution_count": 23,
   "metadata": {},
   "outputs": [
    {
     "data": {
      "text/plain": [
       "(125546, 588)"
      ]
     },
     "execution_count": 23,
     "metadata": {},
     "output_type": "execute_result"
    }
   ],
   "source": [
    "test.shape"
   ]
  },
  {
   "cell_type": "code",
   "execution_count": 24,
   "metadata": {},
   "outputs": [
    {
     "data": {
      "text/plain": [
       "(125546, 2)"
      ]
     },
     "execution_count": 24,
     "metadata": {},
     "output_type": "execute_result"
    }
   ],
   "source": [
    "sample_submission.shape"
   ]
  },
  {
   "cell_type": "markdown",
   "metadata": {},
   "source": [
    "Make sure the id positions of the sample submission and test df are the same in case we want to submit it to kaggle"
   ]
  },
  {
   "cell_type": "code",
   "execution_count": 25,
   "metadata": {},
   "outputs": [],
   "source": [
    "assert pd.Series(test['id'] == sample_submission['id']).all()"
   ]
  },
  {
   "cell_type": "markdown",
   "metadata": {},
   "source": [
    "## Evaluation"
   ]
  },
  {
   "cell_type": "markdown",
   "metadata": {
    "collapsed": true
   },
   "source": [
    "Let's define a [Lorenz curve](https://en.wikipedia.org/wiki/Lorenz_curve). This is a nice way to get an idea of whether you can rank the claims by riskiness well. It can lead to a statement like: the 50% of the least risky exposures (according to our model) cover 20% of their total loss, and the 50% riskiest claims cover 80% of their total loss. This would mean the model is working. "
   ]
  },
  {
   "cell_type": "code",
   "execution_count": 26,
   "metadata": {},
   "outputs": [],
   "source": [
    "def lorenz_curve(risk_proxy, loss):\n",
    "    idx = np.argsort(risk_proxy)\n",
    "    \n",
    "    ordered_loss = loss[idx]\n",
    "    cum_loss =  ordered_loss.cumsum() / sum(loss)\n",
    "    x_axis = np.linspace(0,1,len(cum_loss))\n",
    "    \n",
    "    return np.append([0], x_axis), np.append([0], cum_loss)"
   ]
  },
  {
   "cell_type": "code",
   "execution_count": 27,
   "metadata": {},
   "outputs": [],
   "source": [
    "def score(x, y):\n",
    "    integral = trapz(y, x)\n",
    "    output = 1 - 2 * integral \n",
    "    \n",
    "    return output"
   ]
  },
  {
   "cell_type": "code",
   "execution_count": 28,
   "metadata": {},
   "outputs": [],
   "source": [
    "def lorenz_plot(df, list_of_risk_proxies, loss):\n",
    "    \n",
    "    fig, ax = plt.subplots(figsize=(10,10))\n",
    "    for i in range(len(list_of_risk_proxies)):\n",
    "        y = lorenz_curve(df[list_of_risk_proxies[i]].values, df[loss].values)\n",
    "        score_y = score(y[0], y[1])\n",
    "        \n",
    "        legend = list_of_risk_proxies[i] + ', score: ' + str(np.round(score_y,2))\n",
    "        \n",
    "        ax.plot(y[0], y[1], label=legend);\n",
    "        \n",
    "    ax.set_xlim(0,1.01)\n",
    "    ax.set_ylim(0,1.01)\n",
    "    ax.plot(ax.get_xlim(), ax.get_ylim(), ls=\"--\", c=\".3\")\n",
    "    ax.legend()"
   ]
  },
  {
   "cell_type": "code",
   "execution_count": 77,
   "metadata": {},
   "outputs": [
    {
     "data": {
      "text/plain": [
       "array([0.68722091, 0.40229157, 0.74520305, 0.28909525, 0.23203074,\n",
       "       0.99711207, 0.15765175, 0.98136004, 0.92651   , 0.71467574])"
      ]
     },
     "execution_count": 77,
     "metadata": {},
     "output_type": "execute_result"
    }
   ],
   "source": [
    "np.random.rand(1,10)[0]"
   ]
  },
  {
   "cell_type": "code",
   "execution_count": 86,
   "metadata": {},
   "outputs": [],
   "source": [
    "thing = pd.DataFrame({\n",
    "    'x1': np.random.rand(1,1000)[0] * np.random.randint(1000), \n",
    "    'x2': np.random.rand(1,1000)[0] * np.random.randint(1000),\n",
    "    'x3': np.random.rand(1,1000)[0] * np.random.randint(1000),\n",
    "    'x4': np.random.rand(1,1000)[0] * np.random.randint(1000),\n",
    "    'loss': np.random.rand(1,1000)[0] #* np.random.randint(100)\n",
    "#     'loss':np.array([11,3,2,5,66,9,4,5,7,3])\n",
    "})\n",
    "\n",
    "thing['x2'] = thing['x2'] *  thing['loss']\n",
    "thing['x4'] = thing['x4'] *  thing['loss']"
   ]
  },
  {
   "cell_type": "markdown",
   "metadata": {},
   "source": [
    "This is what a Lorenz plot looks like"
   ]
  },
  {
   "cell_type": "code",
   "execution_count": 88,
   "metadata": {},
   "outputs": [
    {
     "data": {
      "image/png": "[encoded data removed]",
      "text/plain": [
       "<Figure size 720x720 with 1 Axes>"
      ]
     },
     "metadata": {
      "needs_background": "light"
     },
     "output_type": "display_data"
    }
   ],
   "source": [
    "lorenz_plot(thing, ['x1', 'x2', 'x3', 'x4', 'loss'], 'loss')"
   ]
  },
  {
   "cell_type": "markdown",
   "metadata": {},
   "source": [
    "So we know x2 and x4 have information about the model, and you can see there are more predictive. The maximum score is 1, which is only possible if the exposures without claims are also taken into acount. Now all exposures have a claim which means the maximum score is 0.34. "
   ]
  },
  {
   "cell_type": "markdown",
   "metadata": {},
   "source": [
    "# Process for modelling"
   ]
  },
  {
   "cell_type": "code",
   "execution_count": 33,
   "metadata": {},
   "outputs": [],
   "source": [
    "X_train, X_test, y_train, y_test = train_test_split(\n",
    "    train.drop('loss', axis=1),\n",
    "    train[['loss']],\n",
    "    test_size=0.33, \n",
    "    random_state=42\n",
    ")"
   ]
  },
  {
   "cell_type": "code",
   "execution_count": 34,
   "metadata": {},
   "outputs": [
    {
     "data": {
      "text/html": [
       "<div>\n",
       "<style scoped>\n",
       "    .dataframe tbody tr th:only-of-type {\n",
       "        vertical-align: middle;\n",
       "    }\n",
       "\n",
       "    .dataframe tbody tr th {\n",
       "        vertical-align: top;\n",
       "    }\n",
       "\n",
       "    .dataframe thead th {\n",
       "        text-align: right;\n",
       "    }\n",
       "</style>\n",
       "<table border=\"1\" class=\"dataframe\">\n",
       "  <thead>\n",
       "    <tr style=\"text-align: right;\">\n",
       "      <th></th>\n",
       "      <th>id</th>\n",
       "      <th>cat1</th>\n",
       "      <th>cat2</th>\n",
       "      <th>cat3</th>\n",
       "      <th>cat4</th>\n",
       "      <th>cat5</th>\n",
       "      <th>cat6</th>\n",
       "      <th>cat7</th>\n",
       "      <th>cat8</th>\n",
       "      <th>cat9</th>\n",
       "      <th>...</th>\n",
       "      <th>cat116_o_HX</th>\n",
       "      <th>cat116_o_IE</th>\n",
       "      <th>cat116_o_IG</th>\n",
       "      <th>cat116_o_KW</th>\n",
       "      <th>cat116_o_LB</th>\n",
       "      <th>cat116_o_LM</th>\n",
       "      <th>cat116_o_LN</th>\n",
       "      <th>cat116_o_LO</th>\n",
       "      <th>cat116_o_MD</th>\n",
       "      <th>cat116_o_other</th>\n",
       "    </tr>\n",
       "  </thead>\n",
       "  <tbody>\n",
       "    <tr>\n",
       "      <th>31228</th>\n",
       "      <td>98041</td>\n",
       "      <td>A</td>\n",
       "      <td>A</td>\n",
       "      <td>A</td>\n",
       "      <td>B</td>\n",
       "      <td>A</td>\n",
       "      <td>A</td>\n",
       "      <td>A</td>\n",
       "      <td>A</td>\n",
       "      <td>A</td>\n",
       "      <td>...</td>\n",
       "      <td>0</td>\n",
       "      <td>0</td>\n",
       "      <td>0</td>\n",
       "      <td>0</td>\n",
       "      <td>0</td>\n",
       "      <td>0</td>\n",
       "      <td>0</td>\n",
       "      <td>0</td>\n",
       "      <td>0</td>\n",
       "      <td>0</td>\n",
       "    </tr>\n",
       "    <tr>\n",
       "      <th>75562</th>\n",
       "      <td>236254</td>\n",
       "      <td>B</td>\n",
       "      <td>A</td>\n",
       "      <td>A</td>\n",
       "      <td>A</td>\n",
       "      <td>A</td>\n",
       "      <td>B</td>\n",
       "      <td>A</td>\n",
       "      <td>A</td>\n",
       "      <td>A</td>\n",
       "      <td>...</td>\n",
       "      <td>0</td>\n",
       "      <td>0</td>\n",
       "      <td>0</td>\n",
       "      <td>0</td>\n",
       "      <td>0</td>\n",
       "      <td>0</td>\n",
       "      <td>0</td>\n",
       "      <td>0</td>\n",
       "      <td>0</td>\n",
       "      <td>0</td>\n",
       "    </tr>\n",
       "  </tbody>\n",
       "</table>\n",
       "<p>2 rows × 588 columns</p>\n",
       "</div>"
      ],
      "text/plain": [
       "           id cat1 cat2 cat3 cat4 cat5 cat6 cat7 cat8 cat9  ... cat116_o_HX  \\\n",
       "31228   98041    A    A    A    B    A    A    A    A    A  ...           0   \n",
       "75562  236254    B    A    A    A    A    B    A    A    A  ...           0   \n",
       "\n",
       "      cat116_o_IE cat116_o_IG cat116_o_KW cat116_o_LB cat116_o_LM cat116_o_LN  \\\n",
       "31228           0           0           0           0           0           0   \n",
       "75562           0           0           0           0           0           0   \n",
       "\n",
       "      cat116_o_LO cat116_o_MD cat116_o_other  \n",
       "31228           0           0              0  \n",
       "75562           0           0              0  \n",
       "\n",
       "[2 rows x 588 columns]"
      ]
     },
     "execution_count": 34,
     "metadata": {},
     "output_type": "execute_result"
    }
   ],
   "source": [
    "X_train.head(2)"
   ]
  },
  {
   "cell_type": "code",
   "execution_count": 35,
   "metadata": {
    "scrolled": true
   },
   "outputs": [
    {
     "data": {
      "text/html": [
       "<div>\n",
       "<style scoped>\n",
       "    .dataframe tbody tr th:only-of-type {\n",
       "        vertical-align: middle;\n",
       "    }\n",
       "\n",
       "    .dataframe tbody tr th {\n",
       "        vertical-align: top;\n",
       "    }\n",
       "\n",
       "    .dataframe thead th {\n",
       "        text-align: right;\n",
       "    }\n",
       "</style>\n",
       "<table border=\"1\" class=\"dataframe\">\n",
       "  <thead>\n",
       "    <tr style=\"text-align: right;\">\n",
       "      <th></th>\n",
       "      <th>loss</th>\n",
       "    </tr>\n",
       "  </thead>\n",
       "  <tbody>\n",
       "    <tr>\n",
       "      <th>31228</th>\n",
       "      <td>840.33</td>\n",
       "    </tr>\n",
       "    <tr>\n",
       "      <th>75562</th>\n",
       "      <td>1303.28</td>\n",
       "    </tr>\n",
       "  </tbody>\n",
       "</table>\n",
       "</div>"
      ],
      "text/plain": [
       "          loss\n",
       "31228   840.33\n",
       "75562  1303.28"
      ]
     },
     "execution_count": 35,
     "metadata": {},
     "output_type": "execute_result"
    }
   ],
   "source": [
    "y_train.head(2)"
   ]
  },
  {
   "cell_type": "markdown",
   "metadata": {},
   "source": [
    "# Models\n",
    "\n",
    "Let's train a couple of models"
   ]
  },
  {
   "cell_type": "markdown",
   "metadata": {},
   "source": [
    "### GLM"
   ]
  },
  {
   "cell_type": "code",
   "execution_count": 36,
   "metadata": {},
   "outputs": [],
   "source": [
    "assert X_train[cat_dummy_features + cont_features].notnull().all().all()"
   ]
  },
  {
   "cell_type": "code",
   "execution_count": 37,
   "metadata": {},
   "outputs": [],
   "source": [
    "def train_glm(df, target, feature_list, output='results'):\n",
    "    glm = smf.GLM(\n",
    "        exog=sm.add_constant(df[feature_list]).astype(float).values,\n",
    "        endog=target.astype(float).values,\n",
    "        family=sm.families.Gamma(),\n",
    "    )\n",
    "\n",
    "    results_glm = glm.fit()\n",
    "    \n",
    "\n",
    "    if output == 'results':\n",
    "        return results_glm.summary2(xname=['const'] + list(df[feature_list]))\n",
    "    if output == 'model':\n",
    "        return glm, results_glm"
   ]
  },
  {
   "cell_type": "code",
   "execution_count": 38,
   "metadata": {},
   "outputs": [],
   "source": [
    "results_continuous = train_glm(X_train, y_train, cont_features)"
   ]
  },
  {
   "cell_type": "code",
   "execution_count": 39,
   "metadata": {},
   "outputs": [
    {
     "data": {
      "text/html": [
       "<table class=\"simpletable\">\n",
       "<tr>\n",
       "        <td>Model:</td>               <td>GLM</td>            <td>AIC:</td>       <td>2256545.6809</td> \n",
       "</tr>\n",
       "<tr>\n",
       "    <td>Link Function:</td>      <td>inverse_power</td>       <td>BIC:</td>       <td>-1401931.0934</td>\n",
       "</tr>\n",
       "<tr>\n",
       "  <td>Dependent Variable:</td>         <td>y</td>        <td>Log-Likelihood:</td>  <td>-1.1283e+06</td> \n",
       "</tr>\n",
       "<tr>\n",
       "         <td>Date:</td>        <td>2019-05-24 09:21</td>    <td>LL-Null:</td>      <td>-1.1312e+06</td> \n",
       "</tr>\n",
       "<tr>\n",
       "   <td>No. Observations:</td>       <td>126173</td>         <td>Deviance:</td>       <td>79846.</td>    \n",
       "</tr>\n",
       "<tr>\n",
       "       <td>Df Model:</td>             <td>14</td>         <td>Pearson chi2:</td>    <td>9.43e+04</td>   \n",
       "</tr>\n",
       "<tr>\n",
       "     <td>Df Residuals:</td>         <td>126158</td>          <td>Scale:</td>         <td>0.74763</td>   \n",
       "</tr>\n",
       "<tr>\n",
       "        <td>Method:</td>             <td>IRLS</td>              <td></td>               <td></td>       \n",
       "</tr>\n",
       "</table>\n",
       "<table class=\"simpletable\">\n",
       "<tr>\n",
       "     <td></td>     <th>Coef.</th>  <th>Std.Err.</th>     <th>z</th>     <th>P>|z|</th> <th>[0.025</th>  <th>0.975]</th> \n",
       "</tr>\n",
       "<tr>\n",
       "  <th>const</th>  <td>0.0005</td>   <td>0.0000</td>   <td>83.9685</td> <td>0.0000</td> <td>0.0005</td>  <td>0.0005</td> \n",
       "</tr>\n",
       "<tr>\n",
       "  <th>cont1</th>  <td>0.0002</td>   <td>0.0000</td>   <td>14.2305</td> <td>0.0000</td> <td>0.0002</td>  <td>0.0002</td> \n",
       "</tr>\n",
       "<tr>\n",
       "  <th>cont2</th>  <td>-0.0002</td>  <td>0.0000</td>  <td>-40.7400</td> <td>0.0000</td> <td>-0.0002</td> <td>-0.0002</td>\n",
       "</tr>\n",
       "<tr>\n",
       "  <th>cont3</th>  <td>0.0000</td>   <td>0.0000</td>   <td>0.0685</td>  <td>0.9454</td> <td>-0.0000</td> <td>0.0000</td> \n",
       "</tr>\n",
       "<tr>\n",
       "  <th>cont4</th>  <td>0.0000</td>   <td>0.0000</td>   <td>7.4573</td>  <td>0.0000</td> <td>0.0000</td>  <td>0.0001</td> \n",
       "</tr>\n",
       "<tr>\n",
       "  <th>cont5</th>  <td>-0.0000</td>  <td>0.0000</td>   <td>-2.1149</td> <td>0.0344</td> <td>-0.0000</td> <td>-0.0000</td>\n",
       "</tr>\n",
       "<tr>\n",
       "  <th>cont6</th>  <td>0.0000</td>   <td>0.0000</td>   <td>2.3404</td>  <td>0.0193</td> <td>0.0000</td>  <td>0.0001</td> \n",
       "</tr>\n",
       "<tr>\n",
       "  <th>cont7</th>  <td>-0.0001</td>  <td>0.0000</td>  <td>-16.4038</td> <td>0.0000</td> <td>-0.0002</td> <td>-0.0001</td>\n",
       "</tr>\n",
       "<tr>\n",
       "  <th>cont8</th>  <td>-0.0000</td>  <td>0.0000</td>   <td>-6.4799</td> <td>0.0000</td> <td>-0.0000</td> <td>-0.0000</td>\n",
       "</tr>\n",
       "<tr>\n",
       "  <th>cont9</th>  <td>-0.0002</td>  <td>0.0000</td>  <td>-13.6724</td> <td>0.0000</td> <td>-0.0002</td> <td>-0.0002</td>\n",
       "</tr>\n",
       "<tr>\n",
       "  <th>cont10</th> <td>0.0000</td>   <td>0.0000</td>   <td>2.2026</td>  <td>0.0276</td> <td>0.0000</td>  <td>0.0000</td> \n",
       "</tr>\n",
       "<tr>\n",
       "  <th>cont11</th> <td>0.0001</td>   <td>0.0000</td>   <td>3.3029</td>  <td>0.0010</td> <td>0.0000</td>  <td>0.0002</td> \n",
       "</tr>\n",
       "<tr>\n",
       "  <th>cont12</th> <td>-0.0002</td>  <td>0.0000</td>   <td>-5.7861</td> <td>0.0000</td> <td>-0.0003</td> <td>-0.0001</td>\n",
       "</tr>\n",
       "<tr>\n",
       "  <th>cont13</th> <td>0.0000</td>   <td>0.0000</td>   <td>5.0341</td>  <td>0.0000</td> <td>0.0000</td>  <td>0.0001</td> \n",
       "</tr>\n",
       "<tr>\n",
       "  <th>cont14</th> <td>-0.0000</td>  <td>0.0000</td>   <td>-7.8635</td> <td>0.0000</td> <td>-0.0000</td> <td>-0.0000</td>\n",
       "</tr>\n",
       "</table>"
      ],
      "text/plain": [
       "<class 'statsmodels.iolib.summary2.Summary'>\n",
       "\"\"\"\n",
       "                Results: Generalized linear model\n",
       "==================================================================\n",
       "Model:              GLM              AIC:            2256545.6809 \n",
       "Link Function:      inverse_power    BIC:            -1401931.0934\n",
       "Dependent Variable: y                Log-Likelihood: -1.1283e+06  \n",
       "Date:               2019-05-24 09:21 LL-Null:        -1.1312e+06  \n",
       "No. Observations:   126173           Deviance:       79846.       \n",
       "Df Model:           14               Pearson chi2:   9.43e+04     \n",
       "Df Residuals:       126158           Scale:          0.74763      \n",
       "Method:             IRLS                                          \n",
       "--------------------------------------------------------------------\n",
       "           Coef.    Std.Err.      z       P>|z|     [0.025    0.975]\n",
       "--------------------------------------------------------------------\n",
       "const      0.0005     0.0000    83.9685   0.0000    0.0005    0.0005\n",
       "cont1      0.0002     0.0000    14.2305   0.0000    0.0002    0.0002\n",
       "cont2     -0.0002     0.0000   -40.7400   0.0000   -0.0002   -0.0002\n",
       "cont3      0.0000     0.0000     0.0685   0.9454   -0.0000    0.0000\n",
       "cont4      0.0000     0.0000     7.4573   0.0000    0.0000    0.0001\n",
       "cont5     -0.0000     0.0000    -2.1149   0.0344   -0.0000   -0.0000\n",
       "cont6      0.0000     0.0000     2.3404   0.0193    0.0000    0.0001\n",
       "cont7     -0.0001     0.0000   -16.4038   0.0000   -0.0002   -0.0001\n",
       "cont8     -0.0000     0.0000    -6.4799   0.0000   -0.0000   -0.0000\n",
       "cont9     -0.0002     0.0000   -13.6724   0.0000   -0.0002   -0.0002\n",
       "cont10     0.0000     0.0000     2.2026   0.0276    0.0000    0.0000\n",
       "cont11     0.0001     0.0000     3.3029   0.0010    0.0000    0.0002\n",
       "cont12    -0.0002     0.0000    -5.7861   0.0000   -0.0003   -0.0001\n",
       "cont13     0.0000     0.0000     5.0341   0.0000    0.0000    0.0001\n",
       "cont14    -0.0000     0.0000    -7.8635   0.0000   -0.0000   -0.0000\n",
       "==================================================================\n",
       "\n",
       "\"\"\""
      ]
     },
     "execution_count": 39,
     "metadata": {},
     "output_type": "execute_result"
    }
   ],
   "source": [
    "results_continuous"
   ]
  },
  {
   "cell_type": "code",
   "execution_count": 40,
   "metadata": {},
   "outputs": [],
   "source": [
    "results_continuous_significance = results_continuous.tables[1]['P>|z|']\n",
    "continuous_significant_features = list(results_continuous_significance[results_continuous_significance<0.05].index)"
   ]
  },
  {
   "cell_type": "code",
   "execution_count": 41,
   "metadata": {},
   "outputs": [],
   "source": [
    "categorical_significant_features = []"
   ]
  },
  {
   "cell_type": "code",
   "execution_count": 42,
   "metadata": {},
   "outputs": [],
   "source": [
    "for i in range(0, len(cat_features)):\n",
    "    temp_dummy_feature_list = [dummy_cat for dummy_cat in cat_dummy_features if cat_features[i] + '_o' in dummy_cat]\n",
    "    temp_res = train_glm(X_train, y_train, temp_dummy_feature_list)\n",
    "    temp_significance = temp_res.tables[1].loc[temp_dummy_feature_list, 'P>|z|']\n",
    "    categorical_significant_features = categorical_significant_features + list(temp_significance[temp_significance < 0.05].index)"
   ]
  },
  {
   "cell_type": "code",
   "execution_count": 43,
   "metadata": {},
   "outputs": [],
   "source": [
    "significant_features = [x for x in categorical_significant_features + continuous_significant_features if 'const' not in x]"
   ]
  },
  {
   "cell_type": "code",
   "execution_count": 44,
   "metadata": {},
   "outputs": [],
   "source": [
    "glm, results_glm = train_glm(\n",
    "    X_train,\n",
    "    y_train,\n",
    "    significant_features,\n",
    "    output='model'\n",
    ")"
   ]
  },
  {
   "cell_type": "code",
   "execution_count": 45,
   "metadata": {},
   "outputs": [],
   "source": [
    "pred_glm = glm.predict(\n",
    "    exog=sm.add_constant(X_test[significant_features]).astype(float).values,\n",
    "    params=results_glm.params, \n",
    ")"
   ]
  },
  {
   "cell_type": "markdown",
   "metadata": {},
   "source": [
    "# TODO: why are there negative values"
   ]
  },
  {
   "cell_type": "markdown",
   "metadata": {},
   "source": [
    "### Results"
   ]
  },
  {
   "cell_type": "code",
   "execution_count": 47,
   "metadata": {},
   "outputs": [],
   "source": [
    "def rmse(y_test, pred):\n",
    "    return np.sqrt(mean_squared_error(y_test, pred))"
   ]
  },
  {
   "cell_type": "code",
   "execution_count": 50,
   "metadata": {},
   "outputs": [
    {
     "data": {
      "text/plain": [
       "231685.31722080102"
      ]
     },
     "execution_count": 50,
     "metadata": {},
     "output_type": "execute_result"
    }
   ],
   "source": [
    "rmse(y_test, pred_glm)"
   ]
  },
  {
   "cell_type": "code",
   "execution_count": 51,
   "metadata": {},
   "outputs": [],
   "source": [
    "test['pred_glm'] = glm.predict(\n",
    "    exog=sm.add_constant(test[significant_features]).astype(float).values,\n",
    "    params=results_glm.params, \n",
    ")"
   ]
  },
  {
   "cell_type": "markdown",
   "metadata": {},
   "source": [
    "\n",
    "### XGB"
   ]
  },
  {
   "cell_type": "markdown",
   "metadata": {},
   "source": [
    "Parameters"
   ]
  },
  {
   "cell_type": "code",
   "execution_count": 52,
   "metadata": {},
   "outputs": [],
   "source": [
    "params = {\n",
    "    'objective': 'reg:gamma',\n",
    "    'max_depth': 4,\n",
    "    'eta': 0.2,\n",
    "    'eval_metric': 'gamma-nloglik',\n",
    "    'nthread': os.cpu_count() - 1,\n",
    "    'silent': True,\n",
    "    'booster': 'gbtree',\n",
    "    'colsample_bytree': 1,\n",
    "    'gamma': 0,\n",
    "    'max_delta_step': 0,\n",
    "    'min_child_weight': 1,\n",
    "    'subsample': 1,\n",
    "}\n",
    "\n"
   ]
  },
  {
   "cell_type": "code",
   "execution_count": 53,
   "metadata": {},
   "outputs": [],
   "source": [
    "def train_xgb(X_train, y_train, feature_list, params):\n",
    "    \n",
    "    num_boost_round = 1000\n",
    "    cv_folds = 5\n",
    "    early_stopping_rounds = 10\n",
    "    early_stopping_cv_folds = 5\n",
    "    verbose_eval = 10\n",
    "    early_stopping_cv_fold_seed = 42\n",
    "    \n",
    "    X = X_train[feature_list].values\n",
    "    y = y_train.values\n",
    "    \n",
    "    D_train = xgb.DMatrix(\n",
    "        data=X,\n",
    "        label=y,\n",
    "        feature_names=feature_list,\n",
    "        missing=np.nan, \n",
    "    )\n",
    "    \n",
    "    results = xgb.cv(\n",
    "        params=params,\n",
    "        dtrain=D_train,\n",
    "        num_boost_round=num_boost_round,\n",
    "        early_stopping_rounds=early_stopping_rounds,\n",
    "        nfold=early_stopping_cv_folds,\n",
    "        as_pandas=True,\n",
    "        verbose_eval=verbose_eval,\n",
    "        seed=early_stopping_cv_fold_seed\n",
    "    )\n",
    "    \n",
    "    opt_num_boost_round = len(results)\n",
    "\n",
    "    bst = xgb.train(\n",
    "        params=params,\n",
    "        dtrain=D_train,\n",
    "        num_boost_round=opt_num_boost_round,\n",
    "    )\n",
    "    \n",
    "    return bst"
   ]
  },
  {
   "cell_type": "code",
   "execution_count": 54,
   "metadata": {
    "scrolled": false
   },
   "outputs": [
    {
     "name": "stdout",
     "output_type": "stream",
     "text": [
      "[0]\ttrain-gamma-nloglik:4970.88+8.4945\ttest-gamma-nloglik:4970.88+33.9785\n",
      "[10]\ttrain-gamma-nloglik:675.089+1.14951\ttest-gamma-nloglik:675.09+4.60373\n",
      "[20]\ttrain-gamma-nloglik:95.4364+0.155575\ttest-gamma-nloglik:95.4364+0.62559\n",
      "[30]\ttrain-gamma-nloglik:18.6477+0.0211373\ttest-gamma-nloglik:18.6483+0.0870737\n",
      "[40]\ttrain-gamma-nloglik:9.58495+0.00331295\ttest-gamma-nloglik:9.58537+0.0152481\n",
      "[50]\ttrain-gamma-nloglik:8.8968+0.00156125\ttest-gamma-nloglik:8.89765+0.00643987\n",
      "[60]\ttrain-gamma-nloglik:8.85441+0.0015901\ttest-gamma-nloglik:8.8558+0.00571844\n",
      "[70]\ttrain-gamma-nloglik:8.84261+0.00158198\ttest-gamma-nloglik:8.84459+0.00579368\n",
      "[80]\ttrain-gamma-nloglik:8.83677+0.00167194\ttest-gamma-nloglik:8.83935+0.00580392\n",
      "[90]\ttrain-gamma-nloglik:8.83338+0.00180788\ttest-gamma-nloglik:8.83646+0.00580797\n",
      "[100]\ttrain-gamma-nloglik:8.83099+0.00183094\ttest-gamma-nloglik:8.8346+0.00585041\n",
      "[110]\ttrain-gamma-nloglik:8.82919+0.00173918\ttest-gamma-nloglik:8.83331+0.00601616\n",
      "[120]\ttrain-gamma-nloglik:8.82769+0.0017476\ttest-gamma-nloglik:8.8323+0.00602693\n",
      "[130]\ttrain-gamma-nloglik:8.82638+0.00177724\ttest-gamma-nloglik:8.83151+0.00600964\n",
      "[140]\ttrain-gamma-nloglik:8.82525+0.00179284\ttest-gamma-nloglik:8.83086+0.00605625\n",
      "[150]\ttrain-gamma-nloglik:8.82428+0.00181549\ttest-gamma-nloglik:8.83033+0.00609425\n",
      "[160]\ttrain-gamma-nloglik:8.82336+0.00180716\ttest-gamma-nloglik:8.8299+0.00612808\n",
      "[170]\ttrain-gamma-nloglik:8.82255+0.00178135\ttest-gamma-nloglik:8.82954+0.00618972\n",
      "[180]\ttrain-gamma-nloglik:8.8218+0.00174733\ttest-gamma-nloglik:8.82919+0.00624441\n",
      "[190]\ttrain-gamma-nloglik:8.82107+0.00170307\ttest-gamma-nloglik:8.82895+0.00628853\n",
      "[200]\ttrain-gamma-nloglik:8.82045+0.00165891\ttest-gamma-nloglik:8.82877+0.00635859\n",
      "[210]\ttrain-gamma-nloglik:8.81983+0.00165743\ttest-gamma-nloglik:8.82857+0.00636266\n",
      "[220]\ttrain-gamma-nloglik:8.81925+0.00165842\ttest-gamma-nloglik:8.82844+0.00637959\n",
      "[230]\ttrain-gamma-nloglik:8.8187+0.00165468\ttest-gamma-nloglik:8.82829+0.0063795\n",
      "[240]\ttrain-gamma-nloglik:8.81816+0.00166267\ttest-gamma-nloglik:8.82816+0.00634364\n",
      "[250]\ttrain-gamma-nloglik:8.81762+0.00167661\ttest-gamma-nloglik:8.82801+0.00631828\n",
      "[260]\ttrain-gamma-nloglik:8.81713+0.00167168\ttest-gamma-nloglik:8.82794+0.00634097\n",
      "[270]\ttrain-gamma-nloglik:8.8166+0.00167122\ttest-gamma-nloglik:8.82784+0.00637234\n",
      "[280]\ttrain-gamma-nloglik:8.81609+0.00163248\ttest-gamma-nloglik:8.82776+0.0063778\n",
      "[290]\ttrain-gamma-nloglik:8.81562+0.00160875\ttest-gamma-nloglik:8.82768+0.00640927\n",
      "[300]\ttrain-gamma-nloglik:8.81518+0.001597\ttest-gamma-nloglik:8.82767+0.00640873\n",
      "[310]\ttrain-gamma-nloglik:8.81473+0.00157898\ttest-gamma-nloglik:8.82755+0.00640226\n",
      "[320]\ttrain-gamma-nloglik:8.81428+0.00158572\ttest-gamma-nloglik:8.82747+0.0064148\n",
      "[330]\ttrain-gamma-nloglik:8.81387+0.00155824\ttest-gamma-nloglik:8.82746+0.00642588\n",
      "[340]\ttrain-gamma-nloglik:8.81345+0.00155705\ttest-gamma-nloglik:8.82741+0.00644091\n",
      "[350]\ttrain-gamma-nloglik:8.81303+0.00151489\ttest-gamma-nloglik:8.82739+0.00647632\n",
      "[360]\ttrain-gamma-nloglik:8.8126+0.00153595\ttest-gamma-nloglik:8.82735+0.00649298\n",
      "[370]\ttrain-gamma-nloglik:8.81222+0.00152937\ttest-gamma-nloglik:8.82731+0.00653873\n",
      "[380]\ttrain-gamma-nloglik:8.81182+0.00154802\ttest-gamma-nloglik:8.82726+0.00655531\n",
      "[390]\ttrain-gamma-nloglik:8.81144+0.00154172\ttest-gamma-nloglik:8.82725+0.00657535\n"
     ]
    }
   ],
   "source": [
    "booster = train_xgb(X_train, y_train, cont_features + cat_dummy_features, params)"
   ]
  },
  {
   "cell_type": "code",
   "execution_count": 55,
   "metadata": {},
   "outputs": [],
   "source": [
    "D_test = xgb.DMatrix(    \n",
    "    data=X_test[cont_features + cat_dummy_features].values,\n",
    "    feature_names= cont_features + cat_dummy_features,\n",
    "    missing=np.nan, \n",
    ")\n",
    "\n",
    "pred_xgb = booster.predict(D_test)"
   ]
  },
  {
   "cell_type": "code",
   "execution_count": 56,
   "metadata": {},
   "outputs": [
    {
     "data": {
      "text/plain": [
       "1892.6111022663472"
      ]
     },
     "execution_count": 56,
     "metadata": {},
     "output_type": "execute_result"
    }
   ],
   "source": [
    "rmse(pred_xgb, y_test)"
   ]
  },
  {
   "cell_type": "code",
   "execution_count": 57,
   "metadata": {},
   "outputs": [],
   "source": [
    "D_test_final = xgb.DMatrix(    \n",
    "    data=test[cont_features + cat_dummy_features].values,\n",
    "    feature_names= cont_features + cat_dummy_features,\n",
    "    missing=np.nan, \n",
    ")"
   ]
  },
  {
   "cell_type": "code",
   "execution_count": 58,
   "metadata": {},
   "outputs": [],
   "source": [
    "test['pred_xgb'] = booster.predict(D_test_final)"
   ]
  },
  {
   "cell_type": "markdown",
   "metadata": {},
   "source": [
    "### Random Forest"
   ]
  },
  {
   "cell_type": "code",
   "execution_count": 59,
   "metadata": {},
   "outputs": [],
   "source": [
    "rf = RandomForestRegressor()"
   ]
  },
  {
   "cell_type": "code",
   "execution_count": 60,
   "metadata": {},
   "outputs": [
    {
     "data": {
      "text/plain": [
       "RandomForestRegressor(bootstrap=True, criterion='mse', max_depth=None,\n",
       "           max_features='auto', max_leaf_nodes=None,\n",
       "           min_impurity_decrease=0.0, min_impurity_split=None,\n",
       "           min_samples_leaf=1, min_samples_split=2,\n",
       "           min_weight_fraction_leaf=0.0, n_estimators=10, n_jobs=None,\n",
       "           oob_score=False, random_state=None, verbose=0, warm_start=False)"
      ]
     },
     "execution_count": 60,
     "metadata": {},
     "output_type": "execute_result"
    }
   ],
   "source": [
    "rf.fit(X_train[cont_features + cat_dummy_features], y_train)"
   ]
  },
  {
   "cell_type": "code",
   "execution_count": 61,
   "metadata": {},
   "outputs": [],
   "source": [
    "pred_rf = rf.predict(X_test[cont_features + cat_dummy_features])"
   ]
  },
  {
   "cell_type": "code",
   "execution_count": 89,
   "metadata": {},
   "outputs": [
    {
     "data": {
      "text/plain": [
       "2071.159251313066"
      ]
     },
     "execution_count": 89,
     "metadata": {},
     "output_type": "execute_result"
    }
   ],
   "source": [
    "rmse(pred_rf, y_test)"
   ]
  },
  {
   "cell_type": "code",
   "execution_count": 90,
   "metadata": {},
   "outputs": [],
   "source": [
    "test['pred_rf'] = rf.predict(test[cont_features + cat_dummy_features])"
   ]
  },
  {
   "cell_type": "markdown",
   "metadata": {},
   "source": [
    "# Ensemble"
   ]
  },
  {
   "cell_type": "code",
   "execution_count": 92,
   "metadata": {},
   "outputs": [],
   "source": [
    "comparison = pd.DataFrame({\n",
    "    'y_test': y_test['loss'],\n",
    "    'pred_glm': pred_glm,\n",
    "    'pred_rf': pred_rf,\n",
    "    'pred_xgb': pred_xgb,\n",
    "    \n",
    "}).sort_values('y_test')"
   ]
  },
  {
   "cell_type": "markdown",
   "metadata": {},
   "source": [
    "## Weighted average ensemble"
   ]
  },
  {
   "cell_type": "code",
   "execution_count": 98,
   "metadata": {},
   "outputs": [],
   "source": [
    "comparison['rf_xgb_ens'] = 0.1 * comparison['pred_rf'] + 0.9 * comparison['pred_xgb']"
   ]
  },
  {
   "cell_type": "code",
   "execution_count": 99,
   "metadata": {},
   "outputs": [
    {
     "data": {
      "text/plain": [
       "1892.6111022663474"
      ]
     },
     "execution_count": 99,
     "metadata": {},
     "output_type": "execute_result"
    }
   ],
   "source": [
    "rmse(comparison['pred_xgb'], comparison['y_test'])"
   ]
  },
  {
   "cell_type": "code",
   "execution_count": 100,
   "metadata": {
    "scrolled": true
   },
   "outputs": [
    {
     "data": {
      "text/plain": [
       "1885.8765488968004"
      ]
     },
     "execution_count": 100,
     "metadata": {},
     "output_type": "execute_result"
    }
   ],
   "source": [
    "rmse(comparison['rf_xgb_ens'], comparison['y_test'])"
   ]
  },
  {
   "cell_type": "markdown",
   "metadata": {},
   "source": [
    "With this composition we have already improved the xgboost. Let's find the optimal weights. "
   ]
  },
  {
   "cell_type": "markdown",
   "metadata": {},
   "source": [
    "Finding the optimal weights"
   ]
  },
  {
   "cell_type": "code",
   "execution_count": 102,
   "metadata": {},
   "outputs": [
    {
     "name": "stdout",
     "output_type": "stream",
     "text": [
      "Optimal weights: (1.0, 0.0, 0.0) with rmse 231685.317220801\n",
      "Optimal weights: (0.95, 0.05, 0.0) with rmse 220100.1619833917\n",
      "Optimal weights: (0.9, 0.1, 0.0) with rmse 208515.05194858552\n",
      "Optimal weights: (0.85, 0.15, 0.0) with rmse 196929.99509410307\n",
      "Optimal weights: (0.8, 0.2, 0.0) with rmse 185345.00139176997\n",
      "Optimal weights: (0.75, 0.25, 0.0) with rmse 173760.0834730627\n",
      "Optimal weights: (0.7, 0.3, 0.0) with rmse 162175.25758004538\n",
      "Optimal weights: (0.65, 0.35, 0.0) with rmse 150590.5449478439\n",
      "Optimal weights: (0.6, 0.4, 0.0) with rmse 139005.97389907457\n",
      "Optimal weights: (0.55, 0.45, 0.0) with rmse 127421.58304436092\n",
      "Optimal weights: (0.5, 0.5, 0.0) with rmse 115837.42644916964\n",
      "Optimal weights: (0.45, 0.55, 0.0) with rmse 104253.58220037611\n",
      "Optimal weights: (0.4, 0.6, 0.0) with rmse 92670.16743227793\n",
      "Optimal weights: (0.35, 0.65, 0.0) with rmse 81087.36619291904\n",
      "Optimal weights: (0.3, 0.7, 0.0) with rmse 69505.48521642639\n",
      "Optimal weights: (0.25, 0.75, 0.0) with rmse 57925.07651369358\n",
      "Optimal weights: (0.2, 0.8, 0.0) with rmse 46347.24368901578\n",
      "Optimal weights: (0.15, 0.85, 0.0) with rmse 34774.559672966265\n",
      "Optimal weights: (0.1, 0.9, 0.0) with rmse 23214.725884474803\n",
      "Optimal weights: (0.05, 0.95, 0.0) with rmse 11705.874167897045\n",
      "Optimal weights: (0.0, 1.0, 0.0) with rmse 1892.6111022663474\n",
      "Optimal weights: (0.0, 0.95, 0.05) with rmse 1888.5393352419057\n",
      "Optimal weights: (0.0, 0.9, 0.1) with rmse 1885.8765488968004\n",
      "Optimal weights: (0.0, 0.85, 0.15) with rmse 1884.6287114076617\n"
     ]
    }
   ],
   "source": [
    "smallest_rmse = np.inf\n",
    "\n",
    "lin_space = np.linspace(0,1,21)\n",
    "\n",
    "for z in lin_space:\n",
    "    for y in lin_space:\n",
    "        for x in lin_space:\n",
    "            if x + y + z == 1:\n",
    "                x = np.round(x,2)\n",
    "                y = np.round(y,2)\n",
    "                z = np.round(z,2)\n",
    "                \n",
    "                comparison['optimal_stack_ensemble'] = x * comparison['pred_glm'] + y * comparison['pred_xgb'] + z * comparison['pred_rf']\n",
    "                \n",
    "                previous_rmse = smallest_rmse\n",
    "                current_rmse = rmse(comparison['optimal_stack_ensemble'], comparison['y_test'])\n",
    "                \n",
    "                if current_rmse < smallest_rmse:\n",
    "                    smallest_rmse = current_rmse\n",
    "                    print('Optimal weights: {} with rmse {}'.format((x,y,z), smallest_rmse))\n",
    "                    comparison['optimal_stack_ensemble'] = x * comparison['pred_glm'] + y * comparison['pred_xgb'] + z * comparison['pred_rf']"
   ]
  },
  {
   "cell_type": "markdown",
   "metadata": {},
   "source": [
    "So the optimal weighted average is 0.85 XGB, 0.15 RF. "
   ]
  },
  {
   "cell_type": "code",
   "execution_count": 106,
   "metadata": {},
   "outputs": [
    {
     "data": {
      "image/png": "[encoded data removed]",
      "text/plain": [
       "<Figure size 720x720 with 1 Axes>"
      ]
     },
     "metadata": {
      "needs_background": "light"
     },
     "output_type": "display_data"
    }
   ],
   "source": [
    "lorenz_plot(\n",
    "    comparison,\n",
    "    ['pred_glm', 'pred_rf', 'pred_xgb', 'optimal_stack_ensemble', 'y_test'],\n",
    "    'y_test'   \n",
    ")"
   ]
  },
  {
   "cell_type": "markdown",
   "metadata": {},
   "source": [
    "## Stacking"
   ]
  },
  {
   "cell_type": "markdown",
   "metadata": {},
   "source": [
    "One other method is to train a new model on the target with the three model outputs as input additional to the original input, which is called stacking. \n",
    "\n",
    "Sometimes on subsets of the data one model is better, where on the other parts of the data another model is better. Why not let a decision tree figure this out for you? "
   ]
  },
  {
   "cell_type": "code",
   "execution_count": 111,
   "metadata": {},
   "outputs": [],
   "source": [
    "from sklearn.tree import DecisionTreeRegressor"
   ]
  },
  {
   "cell_type": "code",
   "execution_count": 112,
   "metadata": {},
   "outputs": [
    {
     "data": {
      "text/plain": [
       "(126173, 588)"
      ]
     },
     "execution_count": 112,
     "metadata": {},
     "output_type": "execute_result"
    }
   ],
   "source": [
    "X_train.shape"
   ]
  },
  {
   "cell_type": "code",
   "execution_count": 114,
   "metadata": {},
   "outputs": [],
   "source": [
    "X_train_stack = X_train.copy()"
   ]
  },
  {
   "cell_type": "code",
   "execution_count": 115,
   "metadata": {},
   "outputs": [],
   "source": [
    "X_train_stack['glm'] = glm.predict(\n",
    "    exog=sm.add_constant(X_train[significant_features]).astype(float).values,\n",
    "    params=results_glm.params, \n",
    ")"
   ]
  },
  {
   "cell_type": "code",
   "execution_count": 118,
   "metadata": {},
   "outputs": [],
   "source": [
    "D_train_stack = xgb.DMatrix(    \n",
    "    data=X_train[cont_features + cat_dummy_features].values,\n",
    "    feature_names= cont_features + cat_dummy_features,\n",
    "    missing=np.nan, \n",
    ")\n",
    "\n",
    "X_train_stack['xgb'] = booster.predict(D_train_stack)"
   ]
  },
  {
   "cell_type": "code",
   "execution_count": 119,
   "metadata": {},
   "outputs": [],
   "source": [
    "X_train_stack['rf'] = rf.predict(X_train[cont_features + cat_dummy_features])"
   ]
  },
  {
   "cell_type": "code",
   "execution_count": 146,
   "metadata": {},
   "outputs": [
    {
     "data": {
      "text/plain": [
       "DecisionTreeRegressor(criterion='mse', max_depth=3, max_features=None,\n",
       "           max_leaf_nodes=None, min_impurity_decrease=0.0,\n",
       "           min_impurity_split=None, min_samples_leaf=1,\n",
       "           min_samples_split=2, min_weight_fraction_leaf=0.0,\n",
       "           presort=False, random_state=None, splitter='best')"
      ]
     },
     "execution_count": 146,
     "metadata": {},
     "output_type": "execute_result"
    }
   ],
   "source": [
    "regr_3 = DecisionTreeRegressor(max_depth=3)\n",
    "regr_3.fit(X_train_stack[cont_features + cat_dummy_features + ['glm', 'xgb', 'rf']], y_train)"
   ]
  },
  {
   "cell_type": "code",
   "execution_count": 130,
   "metadata": {
    "scrolled": true
   },
   "outputs": [],
   "source": [
    "X_test_stack = X_test.copy()\n",
    "X_test_stack[['glm', 'xgb', 'rf']] = comparison[['pred_glm', 'pred_xgb', 'pred_rf']]"
   ]
  },
  {
   "cell_type": "code",
   "execution_count": 147,
   "metadata": {},
   "outputs": [],
   "source": [
    "comparison['stacked_model'] = regr_3.predict(X_test_stack[cont_features + cat_dummy_features + ['glm', 'xgb', 'rf']])"
   ]
  },
  {
   "cell_type": "code",
   "execution_count": 148,
   "metadata": {},
   "outputs": [
    {
     "data": {
      "text/plain": [
       "3753.0200292514915"
      ]
     },
     "execution_count": 148,
     "metadata": {},
     "output_type": "execute_result"
    }
   ],
   "source": [
    "rmse(comparison['stacked_model'], comparison['y_test'])"
   ]
  },
  {
   "cell_type": "markdown",
   "metadata": {},
   "source": [
    "Ok that didn't work, I actually think my data is contaminated because I predicted on the dataset I trained on to get the feature in the training set.  "
   ]
  },
  {
   "cell_type": "markdown",
   "metadata": {},
   "source": [
    "## Other idea"
   ]
  },
  {
   "cell_type": "markdown",
   "metadata": {},
   "source": [
    "What if we predict the probability that a model is closest, based on all the data? "
   ]
  },
  {
   "cell_type": "code",
   "execution_count": 154,
   "metadata": {},
   "outputs": [],
   "source": [
    "X_train_stack['loss'] = y_train"
   ]
  },
  {
   "cell_type": "code",
   "execution_count": 158,
   "metadata": {},
   "outputs": [],
   "source": [
    "for model in ['glm', 'rf', 'xgb']:\n",
    "    X_train_stack['{}_diff'.format(model)] = (X_train_stack['loss'] - X_train_stack[model]).abs()"
   ]
  },
  {
   "cell_type": "code",
   "execution_count": 164,
   "metadata": {},
   "outputs": [
    {
     "data": {
      "text/plain": [
       "rf_diff     90313\n",
       "xgb_diff    19650\n",
       "glm_diff    16210\n",
       "dtype: int64"
      ]
     },
     "execution_count": 164,
     "metadata": {},
     "output_type": "execute_result"
    }
   ],
   "source": [
    "X_train_stack[['glm_diff', 'rf_diff', 'xgb_diff']].idxmin(axis=1).value_counts()"
   ]
  },
  {
   "cell_type": "code",
   "execution_count": 165,
   "metadata": {},
   "outputs": [],
   "source": [
    "X_train_stack['closest_model'] = X_train_stack[['glm_diff', 'rf_diff', 'xgb_diff']].idxmin(axis=1)"
   ]
  },
  {
   "cell_type": "code",
   "execution_count": 168,
   "metadata": {},
   "outputs": [],
   "source": [
    "clf = RandomForestClassifier(n_estimators=100, max_depth=2, random_state=0)"
   ]
  },
  {
   "cell_type": "code",
   "execution_count": 170,
   "metadata": {},
   "outputs": [
    {
     "data": {
      "text/plain": [
       "RandomForestClassifier(bootstrap=True, class_weight=None, criterion='gini',\n",
       "            max_depth=2, max_features='auto', max_leaf_nodes=None,\n",
       "            min_impurity_decrease=0.0, min_impurity_split=None,\n",
       "            min_samples_leaf=1, min_samples_split=2,\n",
       "            min_weight_fraction_leaf=0.0, n_estimators=100, n_jobs=None,\n",
       "            oob_score=False, random_state=0, verbose=0, warm_start=False)"
      ]
     },
     "execution_count": 170,
     "metadata": {},
     "output_type": "execute_result"
    }
   ],
   "source": [
    "clf.fit(X_train_stack[cont_features + cat_dummy_features], X_train_stack['closest_model'])"
   ]
  },
  {
   "cell_type": "code",
   "execution_count": 175,
   "metadata": {
    "scrolled": true
   },
   "outputs": [
    {
     "data": {
      "text/html": [
       "['glm_diff', 'rf_diff', 'xgb_diff']"
      ],
      "text/plain": [
       "['glm_diff', 'rf_diff', 'xgb_diff']"
      ]
     },
     "execution_count": 175,
     "metadata": {},
     "output_type": "execute_result"
    }
   ],
   "source": [
    "list(clf.classes_)"
   ]
  },
  {
   "cell_type": "code",
   "execution_count": 172,
   "metadata": {},
   "outputs": [],
   "source": [
    "ideal_weights = clf.predict_proba(X_test[cont_features + cat_dummy_features])"
   ]
  },
  {
   "cell_type": "code",
   "execution_count": 185,
   "metadata": {},
   "outputs": [],
   "source": [
    "for i in range(3):\n",
    "    comparison[list(clf.classes_)[i]] = ideal_weights.T[i]"
   ]
  },
  {
   "cell_type": "code",
   "execution_count": 187,
   "metadata": {},
   "outputs": [],
   "source": [
    "comparison['ideal_weighted_model'] = comparison['pred_glm'] * comparison['glm_diff'] + comparison['pred_rf'] * comparison['rf_diff'] + comparison['pred_xgb'] * comparison['xgb_diff']"
   ]
  },
  {
   "cell_type": "code",
   "execution_count": 188,
   "metadata": {},
   "outputs": [
    {
     "data": {
      "text/plain": [
       "30084.45455208937"
      ]
     },
     "execution_count": 188,
     "metadata": {},
     "output_type": "execute_result"
    }
   ],
   "source": [
    "rmse(comparison['ideal_weighted_model'], comparison['y_test'])"
   ]
  },
  {
   "cell_type": "markdown",
   "metadata": {},
   "source": [
    "Oh nooo!! This is also happening because my GLM is crap. "
   ]
  },
  {
   "cell_type": "markdown",
   "metadata": {},
   "source": [
    "# Conclusion"
   ]
  },
  {
   "cell_type": "code",
   "execution_count": 190,
   "metadata": {},
   "outputs": [
    {
     "data": {
      "image/png": "[encoded data removed]",
      "text/plain": [
       "<Figure size 720x720 with 1 Axes>"
      ]
     },
     "metadata": {
      "needs_background": "light"
     },
     "output_type": "display_data"
    }
   ],
   "source": [
    "lorenz_plot(\n",
    "    comparison,\n",
    "    ['pred_glm', 'pred_rf', 'pred_xgb', 'optimal_stack_ensemble', 'stacked_model', 'ideal_weighted_model'],\n",
    "    'y_test'   \n",
    ")"
   ]
  },
  {
   "cell_type": "markdown",
   "metadata": {},
   "source": [
    "XGBoost is still the best at differentiating risk. The best RMSE is achieved by a weighted average of XGBoost and Random Forest. "
   ]
  },
  {
   "cell_type": "markdown",
   "metadata": {},
   "source": [
    "# Appendix"
   ]
  },
  {
   "cell_type": "markdown",
   "metadata": {},
   "source": [
    "#### Shap values"
   ]
  },
  {
   "cell_type": "code",
   "execution_count": 107,
   "metadata": {},
   "outputs": [],
   "source": [
    "import shap"
   ]
  },
  {
   "cell_type": "code",
   "execution_count": 108,
   "metadata": {},
   "outputs": [],
   "source": [
    "explainer = shap.TreeExplainer(booster)"
   ]
  },
  {
   "cell_type": "code",
   "execution_count": 109,
   "metadata": {},
   "outputs": [],
   "source": [
    "shap_values = explainer.shap_values(X_test[cont_features + cat_dummy_features])"
   ]
  },
  {
   "cell_type": "code",
   "execution_count": 135,
   "metadata": {
    "scrolled": true
   },
   "outputs": [],
   "source": [
    "#shap.initjs()\n",
    "#shap.force_plot(explainer.expected_value, shap_values, X_test[cont_features + cat_dummy_features])"
   ]
  },
  {
   "cell_type": "markdown",
   "metadata": {},
   "source": [
    "This is not the most exciting when you don't know what the features represent, and takes way too long with this amount of features. "
   ]
  },
  {
   "cell_type": "markdown",
   "metadata": {},
   "source": [
    "#### Results "
   ]
  },
  {
   "cell_type": "markdown",
   "metadata": {},
   "source": [
    "Not interested in uploading yet, since the leaderboard has scores around 1100 "
   ]
  },
  {
   "cell_type": "code",
   "execution_count": null,
   "metadata": {},
   "outputs": [],
   "source": [
    "test['optimal_stack_ensemble'] = 0.85 * test['pred_xgb'] + 0.15 * test['pred_rf']"
   ]
  },
  {
   "cell_type": "code",
   "execution_count": null,
   "metadata": {},
   "outputs": [],
   "source": [
    "sample_submission['loss'] = test['optimal_stack_ensemble']"
   ]
  },
  {
   "cell_type": "code",
   "execution_count": null,
   "metadata": {},
   "outputs": [],
   "source": [
    "sample_submission.to_csv(...)"
   ]
  }
 ],
 "metadata": {
  "kernelspec": {
   "display_name": "Python 3",
   "language": "python",
   "name": "python3"
  },
  "language_info": {
   "codemirror_mode": {
    "name": "ipython",
    "version": 3
   },
   "file_extension": ".py",
   "mimetype": "text/x-python",
   "name": "python",
   "nbconvert_exporter": "python",
   "pygments_lexer": "ipython3",
   "version": "3.6.7"
  }
 },
 "nbformat": 4,
 "nbformat_minor": 2
}
