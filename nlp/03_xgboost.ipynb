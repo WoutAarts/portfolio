{
 "cells": [
  {
   "cell_type": "code",
   "execution_count": 1,
   "metadata": {},
   "outputs": [],
   "source": [
    "import pandas as pd"
   ]
  },
  {
   "cell_type": "code",
   "execution_count": 2,
   "metadata": {},
   "outputs": [],
   "source": [
    "df = pd.read_csv('data/02_bag_of_words.csv')"
   ]
  },
  {
   "cell_type": "code",
   "execution_count": 4,
   "metadata": {},
   "outputs": [
    {
     "data": {
      "text/plain": [
       "POLITICS          1627\n",
       "WELLNESS           879\n",
       "ENTERTAINMENT      805\n",
       "STYLE & BEAUTY     486\n",
       "TRAVEL             479\n",
       "PARENTING          408\n",
       "HEALTHY LIVING     337\n",
       "QUEER VOICES       324\n",
       "FOOD & DRINK       314\n",
       "BUSINESS           291\n",
       "SPORTS             248\n",
       "COMEDY             239\n",
       "PARENTS            214\n",
       "BLACK VOICES       209\n",
       "HOME & LIVING      198\n",
       "WEDDINGS           194\n",
       "THE WORLDPOST      186\n",
       "WOMEN              185\n",
       "IMPACT             168\n",
       "MEDIA              151\n",
       "DIVORCE            147\n",
       "CRIME              146\n",
       "RELIGION           145\n",
       "GREEN              138\n",
       "WEIRD NEWS         134\n",
       "SCIENCE            118\n",
       "WORLDPOST          116\n",
       "TASTE              108\n",
       "WORLD NEWS         108\n",
       "STYLE              107\n",
       "TECH               105\n",
       "FIFTY               90\n",
       "MONEY               86\n",
       "ARTS                84\n",
       "GOOD NEWS           71\n",
       "ARTS & CULTURE      69\n",
       "ENVIRONMENT         69\n",
       "COLLEGE             61\n",
       "CULTURE & ARTS      52\n",
       "LATINO VOICES       49\n",
       "EDUCATION           49\n",
       "Name: category, dtype: int64"
      ]
     },
     "execution_count": 4,
     "metadata": {},
     "output_type": "execute_result"
    }
   ],
   "source": [
    "df['category'].value_counts()"
   ]
  },
  {
   "cell_type": "code",
   "execution_count": 8,
   "metadata": {},
   "outputs": [
    {
     "data": {
      "text/plain": [
       "['élysées', 'category']"
      ]
     },
     "execution_count": 8,
     "metadata": {},
     "output_type": "execute_result"
    }
   ],
   "source": [
    "list(df)[-2:]"
   ]
  },
  {
   "cell_type": "code",
   "execution_count": 20,
   "metadata": {},
   "outputs": [],
   "source": [
    "amount_list = df.drop(['head_line', 'category'], axis=1).sum()"
   ]
  },
  {
   "cell_type": "code",
   "execution_count": 24,
   "metadata": {},
   "outputs": [],
   "source": [
    "relevant_index_list = list(amount_list[amount_list > 5].index)"
   ]
  },
  {
   "cell_type": "code",
   "execution_count": 31,
   "metadata": {},
   "outputs": [],
   "source": [
    "df_relevant = df[['head_line', 'category'] + relevant_index_list]"
   ]
  },
  {
   "cell_type": "code",
   "execution_count": 32,
   "metadata": {},
   "outputs": [
    {
     "data": {
      "text/plain": [
       "(9994, 2493)"
      ]
     },
     "execution_count": 32,
     "metadata": {},
     "output_type": "execute_result"
    }
   ],
   "source": [
    "df_relevant.shape"
   ]
  },
  {
   "cell_type": "code",
   "execution_count": null,
   "metadata": {},
   "outputs": [],
   "source": []
  }
 ],
 "metadata": {
  "kernelspec": {
   "display_name": "Python 3",
   "language": "python",
   "name": "python3"
  },
  "language_info": {
   "codemirror_mode": {
    "name": "ipython",
    "version": 3
   },
   "file_extension": ".py",
   "mimetype": "text/x-python",
   "name": "python",
   "nbconvert_exporter": "python",
   "pygments_lexer": "ipython3",
   "version": "3.6.7"
  }
 },
 "nbformat": 4,
 "nbformat_minor": 2
}
